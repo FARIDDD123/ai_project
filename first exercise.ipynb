{
 "cells": [
  {
   "cell_type": "markdown",
   "id": "2e206b77",
   "metadata": {},
   "source": [
    "# Jupyter Notebooke Basics Exercise"
   ]
  },
  {
   "cell_type": "markdown",
   "id": "d71a3a52",
   "metadata": {},
   "source": [
    "## part 1\n",
    "Run This Cell"
   ]
  },
  {
   "cell_type": "markdown",
   "id": "a65a9fd1",
   "metadata": {},
   "source": [
    "Run This Cell"
   ]
  },
  {
   "cell_type": "code",
   "execution_count": 3,
   "id": "11645478",
   "metadata": {},
   "outputs": [
    {
     "data": {
      "text/plain": [
       "'Congrats! You did it!!'"
      ]
     },
     "execution_count": 3,
     "metadata": {},
     "output_type": "execute_result"
    }
   ],
   "source": [
    "u = 'Cnrt!Yuddi!'\n",
    "l = 'ogas o i t!'\n",
    "\"\".join(i + j for i, j in zip(u,l))"
   ]
  },
  {
   "cell_type": "markdown",
   "id": "7513d2b0",
   "metadata": {},
   "source": [
    "## part 2"
   ]
  },
  {
   "cell_type": "code",
   "execution_count": 5,
   "id": "03182967",
   "metadata": {},
   "outputs": [
    {
     "data": {
      "text/plain": [
       "'Wow, Farid is the most amazing person on this planet'"
      ]
     },
     "execution_count": 5,
     "metadata": {},
     "output_type": "execute_result"
    }
   ],
   "source": [
    "#Replace <Your Name> With Your Name And Then Run This Cell Again\n",
    "\"Wow, Farid is the most amazing person on this planet\""
   ]
  },
  {
   "cell_type": "markdown",
   "id": "ccc7d26e",
   "metadata": {},
   "source": [
    "## part 3\n",
    "Creat 3 Empty Cells Directly Bellow This Cell"
   ]
  },
  {
   "cell_type": "code",
   "execution_count": null,
   "id": "5acf437c",
   "metadata": {},
   "outputs": [],
   "source": []
  },
  {
   "cell_type": "code",
   "execution_count": null,
   "id": "a854e088",
   "metadata": {},
   "outputs": [],
   "source": []
  },
  {
   "cell_type": "code",
   "execution_count": null,
   "id": "96938490",
   "metadata": {},
   "outputs": [],
   "source": []
  },
  {
   "cell_type": "markdown",
   "id": "c947d27c",
   "metadata": {},
   "source": [
    "## part 4"
   ]
  },
  {
   "cell_type": "code",
   "execution_count": 6,
   "id": "26758b59",
   "metadata": {},
   "outputs": [],
   "source": [
    "# Delete This Cell"
   ]
  },
  {
   "cell_type": "code",
   "execution_count": 7,
   "id": "b6ff3e23",
   "metadata": {},
   "outputs": [
    {
     "name": "stdout",
     "output_type": "stream",
     "text": [
      "Hello farid Welcome to my course\n"
     ]
    }
   ],
   "source": [
    "#Run This Cell!\n",
    "print('Hello farid Welcome to my course')"
   ]
  },
  {
   "cell_type": "markdown",
   "id": "508e8c58",
   "metadata": {},
   "source": [
    "## part 5\n",
    "These cells are out of order! Swap their order and then run them both!"
   ]
  },
  {
   "cell_type": "code",
   "execution_count": 9,
   "id": "b9033859",
   "metadata": {},
   "outputs": [
    {
     "ename": "NameError",
     "evalue": "name 'number' is not defined",
     "output_type": "error",
     "traceback": [
      "\u001b[1;31m---------------------------------------------------------------------------\u001b[0m",
      "\u001b[1;31mNameError\u001b[0m                                 Traceback (most recent call last)",
      "\u001b[1;32m~\\AppData\\Local\\Temp\\ipykernel_1248\\855420226.py\u001b[0m in \u001b[0;36m<module>\u001b[1;34m\u001b[0m\n\u001b[1;32m----> 1\u001b[1;33m \u001b[0mnumber\u001b[0m \u001b[1;33m*\u001b[0m \u001b[0mnumber\u001b[0m\u001b[1;33m\u001b[0m\u001b[1;33m\u001b[0m\u001b[0m\n\u001b[0m",
      "\u001b[1;31mNameError\u001b[0m: name 'number' is not defined"
     ]
    }
   ],
   "source": [
    "number * number"
   ]
  },
  {
   "cell_type": "code",
   "execution_count": 11,
   "id": "17e5afb7",
   "metadata": {},
   "outputs": [],
   "source": [
    "number = 69"
   ]
  },
  {
   "cell_type": "code",
   "execution_count": 13,
   "id": "ea78b2b6",
   "metadata": {},
   "outputs": [
    {
     "data": {
      "text/plain": [
       "4761"
      ]
     },
     "execution_count": 13,
     "metadata": {},
     "output_type": "execute_result"
    }
   ],
   "source": [
    "number * number"
   ]
  },
  {
   "cell_type": "markdown",
   "id": "26f50809",
   "metadata": {},
   "source": [
    "## part 6"
   ]
  },
  {
   "cell_type": "markdown",
   "id": "eb4ac7a4",
   "metadata": {},
   "source": [
    " ### Make this cell a python cell and run it (it's markdown right now)\n",
    "\"supercalifragilisticexpialidocious\" * 20"
   ]
  },
  {
   "cell_type": "code",
   "execution_count": 16,
   "id": "ef791fbc",
   "metadata": {},
   "outputs": [
    {
     "data": {
      "text/plain": [
       "'supercalifragilisticexpialidocioussupercalifragilisticexpialidocioussupercalifragilisticexpialidocioussupercalifragilisticexpialidocioussupercalifragilisticexpialidocioussupercalifragilisticexpialidocioussupercalifragilisticexpialidocioussupercalifragilisticexpialidocioussupercalifragilisticexpialidocioussupercalifragilisticexpialidocioussupercalifragilisticexpialidocioussupercalifragilisticexpialidocioussupercalifragilisticexpialidocioussupercalifragilisticexpialidocioussupercalifragilisticexpialidocioussupercalifragilisticexpialidocioussupercalifragilisticexpialidocioussupercalifragilisticexpialidocioussupercalifragilisticexpialidocioussupercalifragilisticexpialidocious'"
      ]
     },
     "execution_count": 16,
     "metadata": {},
     "output_type": "execute_result"
    }
   ],
   "source": [
    "# Make this cell a python cell and run it (it's markdown right now)\n",
    "\"supercalifragilisticexpialidocious\" * 20"
   ]
  },
  {
   "cell_type": "markdown",
   "id": "59ee764f",
   "metadata": {},
   "source": [
    "## part 7"
   ]
  },
  {
   "cell_type": "code",
   "execution_count": null,
   "id": "1d0b026a",
   "metadata": {},
   "outputs": [],
   "source": [
    "# This cell is supposed to print the integers from 9 down to 1 (but it doesnt!)\n",
    "# 1. Run this cell which results in an INFINITE LOOP\n",
    "# 2. Interrupt the infinite loop\n",
    "# 3. Fix the code so that it prints 9,8,7,6,5,4,3,2,1 and run the cell again!\n",
    "# 4. Do Not Run This\n",
    "num = 10\n",
    "while num > 1:\n",
    "    num +=1\n",
    "    print(num)"
   ]
  },
  {
   "cell_type": "code",
   "execution_count": 19,
   "id": "3a62d0a4",
   "metadata": {},
   "outputs": [
    {
     "name": "stdout",
     "output_type": "stream",
     "text": [
      "9\n",
      "8\n",
      "7\n",
      "6\n",
      "5\n",
      "4\n",
      "3\n",
      "2\n",
      "1\n"
     ]
    }
   ],
   "source": [
    "# currect answer\n",
    "num1 = 10\n",
    "while num1 > 1:\n",
    "    num1 -=1\n",
    "    print(num1)"
   ]
  },
  {
   "cell_type": "markdown",
   "id": "bea074ae",
   "metadata": {},
   "source": [
    "## part 8\n",
    "Shutdown This Notebooke"
   ]
  }
 ],
 "metadata": {
  "kernelspec": {
   "display_name": "Python 3 (ipykernel)",
   "language": "python",
   "name": "python3"
  },
  "language_info": {
   "codemirror_mode": {
    "name": "ipython",
    "version": 3
   },
   "file_extension": ".py",
   "mimetype": "text/x-python",
   "name": "python",
   "nbconvert_exporter": "python",
   "pygments_lexer": "ipython3",
   "version": "3.9.13"
  }
 },
 "nbformat": 4,
 "nbformat_minor": 5
}
