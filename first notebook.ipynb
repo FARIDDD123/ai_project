{
 "cells": [
  {
   "cell_type": "markdown",
   "id": "f8cfd225",
   "metadata": {},
   "source": [
    "# python course\n",
    "## by farid kaki\n",
    "### data type\n",
    "* string\n",
    "* number\n",
    "* boolian\n",
    "* complex"
   ]
  },
  {
   "cell_type": "code",
   "execution_count": 14,
   "id": "cb449d6b",
   "metadata": {},
   "outputs": [
    {
     "data": {
      "text/plain": [
       "32.0"
      ]
     },
     "execution_count": 14,
     "metadata": {},
     "output_type": "execute_result"
    }
   ],
   "source": [
    "40 * 8 / 10"
   ]
  },
  {
   "cell_type": "code",
   "execution_count": 13,
   "id": "21f75508",
   "metadata": {},
   "outputs": [
    {
     "name": "stdout",
     "output_type": "stream",
     "text": [
      "hello farid\n"
     ]
    }
   ],
   "source": [
    "print('hello farid')"
   ]
  },
  {
   "cell_type": "code",
   "execution_count": 23,
   "id": "80c2bae3",
   "metadata": {},
   "outputs": [
    {
     "name": "stdout",
     "output_type": "stream",
     "text": [
      "[1, 2, 3, 4, 5, 6, 7]\n"
     ]
    }
   ],
   "source": [
    "numbers = [1,2,3,4,5,6,7]\n",
    "print(numbers)"
   ]
  },
  {
   "cell_type": "code",
   "execution_count": 24,
   "id": "5dc445b9",
   "metadata": {},
   "outputs": [
    {
     "name": "stdout",
     "output_type": "stream",
     "text": [
      "1\n",
      "2\n",
      "3\n",
      "4\n",
      "5\n",
      "6\n",
      "7\n"
     ]
    }
   ],
   "source": [
    "numbers1 =[1,2,3,4,5,6,7]\n",
    "for number in numbers:\n",
    "    print(number)"
   ]
  },
  {
   "cell_type": "code",
   "execution_count": 25,
   "id": "2d02e1e9",
   "metadata": {},
   "outputs": [
    {
     "name": "stdout",
     "output_type": "stream",
     "text": [
      "Farid\n",
      "29\n",
      "Developer\n"
     ]
    }
   ],
   "source": [
    "my_dect = {\n",
    "    'name' : 'Farid',\n",
    "    'age' : 29,\n",
    "    'job' : 'Developer'\n",
    "}\n",
    "\n",
    "\n",
    "for item in my_dect:\n",
    "    print(my_dect[item])"
   ]
  },
  {
   "cell_type": "code",
   "execution_count": 26,
   "id": "0a295b3d",
   "metadata": {},
   "outputs": [
    {
     "name": "stdout",
     "output_type": "stream",
     "text": [
      "72\n"
     ]
    }
   ],
   "source": [
    "def multy(x,y):\n",
    "    return x * y\n",
    "\n",
    "print(multy(9,8))"
   ]
  },
  {
   "cell_type": "code",
   "execution_count": 29,
   "id": "d578469d",
   "metadata": {},
   "outputs": [
    {
     "name": "stdout",
     "output_type": "stream",
     "text": [
      "What Is Your Name?farid\n",
      "Hello farid Welcome to my curse\n"
     ]
    }
   ],
   "source": [
    "name = input('What Is Your Name?')\n",
    "print(f'Hello {name} Welcome to my curse')\n"
   ]
  },
  {
   "cell_type": "code",
   "execution_count": 4,
   "id": "14828d86",
   "metadata": {},
   "outputs": [
    {
     "name": "stdout",
     "output_type": "stream",
     "text": [
      "64\n"
     ]
    }
   ],
   "source": [
    "print(8* 8)"
   ]
  },
  {
   "cell_type": "code",
   "execution_count": 8,
   "id": "b12b81e5",
   "metadata": {},
   "outputs": [
    {
     "data": {
      "text/plain": [
       "'red'"
      ]
     },
     "execution_count": 8,
     "metadata": {},
     "output_type": "execute_result"
    }
   ],
   "source": [
    "color"
   ]
  },
  {
   "cell_type": "code",
   "execution_count": 4,
   "id": "6de09d66",
   "metadata": {},
   "outputs": [],
   "source": [
    "name = 'farid'"
   ]
  },
  {
   "cell_type": "markdown",
   "id": "ea7a9a46",
   "metadata": {},
   "source": [
    "# note:\n",
    "### when you want know about documentation\n",
    "* hit tabe\n",
    "* or shift and tabe"
   ]
  },
  {
   "cell_type": "markdown",
   "id": "257fe4a0",
   "metadata": {},
   "source": [
    "# example"
   ]
  },
  {
   "cell_type": "code",
   "execution_count": 7,
   "id": "aaa77197",
   "metadata": {},
   "outputs": [],
   "source": [
    "import statistics"
   ]
  },
  {
   "cell_type": "markdown",
   "id": "83763c73",
   "metadata": {},
   "source": [
    "## now i want to access to documentaion"
   ]
  },
  {
   "cell_type": "markdown",
   "id": "2d88e08c",
   "metadata": {},
   "source": [
    "* hit tab or tab and shift\n",
    "* or you can put the ? and run the code"
   ]
  },
  {
   "cell_type": "code",
   "execution_count": 8,
   "id": "c77a4da8",
   "metadata": {},
   "outputs": [
    {
     "data": {
      "text/plain": [
       "<function _bisect.bisect_left(a, x, lo=0, hi=None)>"
      ]
     },
     "execution_count": 8,
     "metadata": {},
     "output_type": "execute_result"
    }
   ],
   "source": [
    "statistics.bisect_left"
   ]
  },
  {
   "cell_type": "code",
   "execution_count": 10,
   "id": "08ba3b1f",
   "metadata": {},
   "outputs": [],
   "source": [
    "statistics?"
   ]
  },
  {
   "cell_type": "code",
   "execution_count": null,
   "id": "ca630f64",
   "metadata": {},
   "outputs": [],
   "source": []
  }
 ],
 "metadata": {
  "kernelspec": {
   "display_name": "Python 3 (ipykernel)",
   "language": "python",
   "name": "python3"
  },
  "language_info": {
   "codemirror_mode": {
    "name": "ipython",
    "version": 3
   },
   "file_extension": ".py",
   "mimetype": "text/x-python",
   "name": "python",
   "nbconvert_exporter": "python",
   "pygments_lexer": "ipython3",
   "version": "3.9.13"
  }
 },
 "nbformat": 4,
 "nbformat_minor": 5
}
