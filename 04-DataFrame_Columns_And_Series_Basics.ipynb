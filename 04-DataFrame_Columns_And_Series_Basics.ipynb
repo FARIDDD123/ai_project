{
 "cells": [
  {
   "cell_type": "code",
   "execution_count": 1,
   "id": "bdd32c7e",
   "metadata": {},
   "outputs": [],
   "source": [
    "import pandas as pd"
   ]
  },
  {
   "cell_type": "code",
   "execution_count": 2,
   "id": "3d55f6e1",
   "metadata": {},
   "outputs": [],
   "source": [
    "kc_house = pd.read_csv('DataAnalysis/data/kc_house_data.csv')"
   ]
  },
  {
   "cell_type": "code",
   "execution_count": 3,
   "id": "c289cef0",
   "metadata": {},
   "outputs": [],
   "source": [
    "titanic = pd.read_csv('DataAnalysis/data/titanic.csv')"
   ]
  },
  {
   "cell_type": "code",
   "execution_count": 4,
   "id": "dd208d3f",
   "metadata": {},
   "outputs": [],
   "source": [
    "netflix = pd.read_csv('DataAnalysis/data/netflix_titles.csv', sep=\"|\", index_col=0)"
   ]
  },
  {
   "cell_type": "code",
   "execution_count": 5,
   "id": "d77d6716",
   "metadata": {},
   "outputs": [
    {
     "data": {
      "text/plain": [
       "0        221900.0\n",
       "1        538000.0\n",
       "2        180000.0\n",
       "3        604000.0\n",
       "4        510000.0\n",
       "           ...   \n",
       "21608    360000.0\n",
       "21609    400000.0\n",
       "21610    402101.0\n",
       "21611    400000.0\n",
       "21612    325000.0\n",
       "Name: price, Length: 21613, dtype: float64"
      ]
     },
     "execution_count": 5,
     "metadata": {},
     "output_type": "execute_result"
    }
   ],
   "source": [
    "kc_house.price"
   ]
  },
  {
   "cell_type": "code",
   "execution_count": 6,
   "id": "243ae4ef",
   "metadata": {},
   "outputs": [
    {
     "data": {
      "text/plain": [
       "0        221900.0\n",
       "1        538000.0\n",
       "2        180000.0\n",
       "3        604000.0\n",
       "4        510000.0\n",
       "           ...   \n",
       "21608    360000.0\n",
       "21609    400000.0\n",
       "21610    402101.0\n",
       "21611    400000.0\n",
       "21612    325000.0\n",
       "Name: price, Length: 21613, dtype: float64"
      ]
     },
     "execution_count": 6,
     "metadata": {},
     "output_type": "execute_result"
    }
   ],
   "source": [
    "kc_house['price']"
   ]
  },
  {
   "cell_type": "code",
   "execution_count": 7,
   "id": "d50ec322",
   "metadata": {},
   "outputs": [
    {
     "data": {
      "text/plain": [
       "0           29\n",
       "1       0.9167\n",
       "2            2\n",
       "3           30\n",
       "4           25\n",
       "         ...  \n",
       "1304      14.5\n",
       "1305         ?\n",
       "1306      26.5\n",
       "1307        27\n",
       "1308        29\n",
       "Name: age, Length: 1309, dtype: object"
      ]
     },
     "execution_count": 7,
     "metadata": {},
     "output_type": "execute_result"
    }
   ],
   "source": [
    "titanic.age"
   ]
  },
  {
   "cell_type": "code",
   "execution_count": 8,
   "id": "0f7d9bb1",
   "metadata": {},
   "outputs": [
    {
     "data": {
      "text/plain": [
       "0           29\n",
       "1       0.9167\n",
       "2            2\n",
       "3           30\n",
       "4           25\n",
       "         ...  \n",
       "1304      14.5\n",
       "1305         ?\n",
       "1306      26.5\n",
       "1307        27\n",
       "1308        29\n",
       "Name: age, Length: 1309, dtype: object"
      ]
     },
     "execution_count": 8,
     "metadata": {},
     "output_type": "execute_result"
    }
   ],
   "source": [
    "titanic['age']"
   ]
  },
  {
   "cell_type": "code",
   "execution_count": 9,
   "id": "23e3ec29",
   "metadata": {},
   "outputs": [
    {
     "data": {
      "text/plain": [
       "0                          St Louis, MO\n",
       "1       Montreal, PQ / Chesterville, ON\n",
       "2       Montreal, PQ / Chesterville, ON\n",
       "3       Montreal, PQ / Chesterville, ON\n",
       "4       Montreal, PQ / Chesterville, ON\n",
       "                     ...               \n",
       "1304                                  ?\n",
       "1305                                  ?\n",
       "1306                                  ?\n",
       "1307                                  ?\n",
       "1308                                  ?\n",
       "Name: home.dest, Length: 1309, dtype: object"
      ]
     },
     "execution_count": 9,
     "metadata": {},
     "output_type": "execute_result"
    }
   ],
   "source": [
    "titanic['home.dest']"
   ]
  },
  {
   "cell_type": "code",
   "execution_count": 10,
   "id": "1bd2e0e5",
   "metadata": {},
   "outputs": [
    {
     "data": {
      "text/plain": [
       "pandas.core.series.Series"
      ]
     },
     "execution_count": 10,
     "metadata": {},
     "output_type": "execute_result"
    }
   ],
   "source": [
    "type(kc_house.mean(numeric_only=True))"
   ]
  },
  {
   "cell_type": "code",
   "execution_count": 11,
   "id": "5d4e61c0",
   "metadata": {},
   "outputs": [
    {
     "data": {
      "text/plain": [
       "id               9.899406e+13\n",
       "price            1.167293e+10\n",
       "bedrooms         7.285400e+04\n",
       "bathrooms        4.570625e+04\n",
       "sqft_living      4.495287e+07\n",
       "sqft_lot         3.265069e+08\n",
       "floors           3.229650e+04\n",
       "waterfront       1.630000e+02\n",
       "view             5.064000e+03\n",
       "condition        7.368800e+04\n",
       "grade            1.654880e+05\n",
       "sqft_above       3.865249e+07\n",
       "sqft_basement    6.300385e+06\n",
       "yr_built         4.259933e+07\n",
       "yr_renovated     1.824186e+06\n",
       "zipcode          2.119759e+09\n",
       "lat              1.027915e+06\n",
       "long            -2.641409e+06\n",
       "sqft_living15    4.293536e+07\n",
       "sqft_lot15       2.759646e+08\n",
       "dtype: float64"
      ]
     },
     "execution_count": 11,
     "metadata": {},
     "output_type": "execute_result"
    }
   ],
   "source": [
    "kc_house.sum(numeric_only=True)"
   ]
  },
  {
   "cell_type": "code",
   "execution_count": 12,
   "id": "f7474953",
   "metadata": {},
   "outputs": [
    {
     "data": {
      "text/plain": [
       "11672925008.0"
      ]
     },
     "execution_count": 12,
     "metadata": {},
     "output_type": "execute_result"
    }
   ],
   "source": [
    "kc_house.price.sum()"
   ]
  },
  {
   "cell_type": "code",
   "execution_count": 13,
   "id": "6e5391a0",
   "metadata": {},
   "outputs": [
    {
     "data": {
      "text/plain": [
       "pclass      3004\n",
       "survived     500\n",
       "sibsp        653\n",
       "parch        504\n",
       "dtype: int64"
      ]
     },
     "execution_count": 13,
     "metadata": {},
     "output_type": "execute_result"
    }
   ],
   "source": [
    "titanic.sum(numeric_only=True)"
   ]
  },
  {
   "cell_type": "code",
   "execution_count": 14,
   "id": "dad35d95",
   "metadata": {},
   "outputs": [
    {
     "data": {
      "text/plain": [
       "500"
      ]
     },
     "execution_count": 14,
     "metadata": {},
     "output_type": "execute_result"
    }
   ],
   "source": [
    "titanic.survived.sum()"
   ]
  },
  {
   "cell_type": "code",
   "execution_count": 15,
   "id": "0783bbc7",
   "metadata": {},
   "outputs": [
    {
     "data": {
      "text/plain": [
       "75000.0"
      ]
     },
     "execution_count": 15,
     "metadata": {},
     "output_type": "execute_result"
    }
   ],
   "source": [
    "kc_house.price.min()"
   ]
  },
  {
   "cell_type": "code",
   "execution_count": 16,
   "id": "3f005cdd",
   "metadata": {},
   "outputs": [
    {
     "data": {
      "text/plain": [
       "7700000.0"
      ]
     },
     "execution_count": 16,
     "metadata": {},
     "output_type": "execute_result"
    }
   ],
   "source": [
    "kc_house.price.max()"
   ]
  },
  {
   "cell_type": "code",
   "execution_count": 17,
   "id": "1ec33031",
   "metadata": {},
   "outputs": [
    {
     "data": {
      "text/plain": [
       "450000.0"
      ]
     },
     "execution_count": 17,
     "metadata": {},
     "output_type": "execute_result"
    }
   ],
   "source": [
    "kc_house.price.median()"
   ]
  },
  {
   "cell_type": "code",
   "execution_count": 18,
   "id": "7e371f0e",
   "metadata": {},
   "outputs": [
    {
     "name": "stdout",
     "output_type": "stream",
     "text": [
      "<class 'pandas.core.frame.DataFrame'>\n",
      "RangeIndex: 21613 entries, 0 to 21612\n",
      "Data columns (total 21 columns):\n",
      " #   Column         Non-Null Count  Dtype  \n",
      "---  ------         --------------  -----  \n",
      " 0   id             21613 non-null  int64  \n",
      " 1   date           21613 non-null  object \n",
      " 2   price          21613 non-null  float64\n",
      " 3   bedrooms       21613 non-null  int64  \n",
      " 4   bathrooms      21613 non-null  float64\n",
      " 5   sqft_living    21613 non-null  int64  \n",
      " 6   sqft_lot       21613 non-null  int64  \n",
      " 7   floors         21613 non-null  float64\n",
      " 8   waterfront     21613 non-null  int64  \n",
      " 9   view           21613 non-null  int64  \n",
      " 10  condition      21613 non-null  int64  \n",
      " 11  grade          21613 non-null  int64  \n",
      " 12  sqft_above     21613 non-null  int64  \n",
      " 13  sqft_basement  21613 non-null  int64  \n",
      " 14  yr_built       21613 non-null  int64  \n",
      " 15  yr_renovated   21613 non-null  int64  \n",
      " 16  zipcode        21613 non-null  int64  \n",
      " 17  lat            21613 non-null  float64\n",
      " 18  long           21613 non-null  float64\n",
      " 19  sqft_living15  21613 non-null  int64  \n",
      " 20  sqft_lot15     21613 non-null  int64  \n",
      "dtypes: float64(5), int64(15), object(1)\n",
      "memory usage: 3.5+ MB\n"
     ]
    }
   ],
   "source": [
    "kc_house.info()"
   ]
  },
  {
   "cell_type": "code",
   "execution_count": 19,
   "id": "9270deab",
   "metadata": {},
   "outputs": [
    {
     "data": {
      "text/plain": [
       "(21613, 21)"
      ]
     },
     "execution_count": 19,
     "metadata": {},
     "output_type": "execute_result"
    }
   ],
   "source": [
    "kc_house.shape"
   ]
  },
  {
   "cell_type": "code",
   "execution_count": 20,
   "id": "d7b6c570",
   "metadata": {},
   "outputs": [
    {
     "name": "stdout",
     "output_type": "stream",
     "text": [
      "<class 'pandas.core.frame.DataFrame'>\n",
      "RangeIndex: 1309 entries, 0 to 1308\n",
      "Data columns (total 14 columns):\n",
      " #   Column     Non-Null Count  Dtype \n",
      "---  ------     --------------  ----- \n",
      " 0   pclass     1309 non-null   int64 \n",
      " 1   survived   1309 non-null   int64 \n",
      " 2   name       1309 non-null   object\n",
      " 3   sex        1309 non-null   object\n",
      " 4   age        1309 non-null   object\n",
      " 5   sibsp      1309 non-null   int64 \n",
      " 6   parch      1309 non-null   int64 \n",
      " 7   ticket     1309 non-null   object\n",
      " 8   fare       1309 non-null   object\n",
      " 9   cabin      1309 non-null   object\n",
      " 10  embarked   1309 non-null   object\n",
      " 11  boat       1309 non-null   object\n",
      " 12  body       1309 non-null   object\n",
      " 13  home.dest  1309 non-null   object\n",
      "dtypes: int64(4), object(10)\n",
      "memory usage: 143.3+ KB\n"
     ]
    }
   ],
   "source": [
    "titanic.info()"
   ]
  },
  {
   "cell_type": "code",
   "execution_count": 21,
   "id": "4e36d873",
   "metadata": {},
   "outputs": [
    {
     "data": {
      "text/plain": [
       "(1309, 14)"
      ]
     },
     "execution_count": 21,
     "metadata": {},
     "output_type": "execute_result"
    }
   ],
   "source": [
    "titanic.shape"
   ]
  },
  {
   "cell_type": "markdown",
   "id": "542d9616",
   "metadata": {},
   "source": [
    "# shape\n",
    "* you must sate the value to the variable and then shape the value to show you"
   ]
  },
  {
   "cell_type": "code",
   "execution_count": 22,
   "id": "2e638433",
   "metadata": {},
   "outputs": [],
   "source": [
    "namse = titanic.name"
   ]
  },
  {
   "cell_type": "code",
   "execution_count": 23,
   "id": "3965c845",
   "metadata": {},
   "outputs": [
    {
     "data": {
      "text/plain": [
       "(1309,)"
      ]
     },
     "execution_count": 23,
     "metadata": {},
     "output_type": "execute_result"
    }
   ],
   "source": [
    "namse.shape"
   ]
  },
  {
   "cell_type": "code",
   "execution_count": 24,
   "id": "578004ef",
   "metadata": {},
   "outputs": [
    {
     "name": "stdout",
     "output_type": "stream",
     "text": [
      "<class 'pandas.core.frame.DataFrame'>\n",
      "RangeIndex: 21613 entries, 0 to 21612\n",
      "Data columns (total 21 columns):\n",
      " #   Column         Non-Null Count  Dtype  \n",
      "---  ------         --------------  -----  \n",
      " 0   id             21613 non-null  int64  \n",
      " 1   date           21613 non-null  object \n",
      " 2   price          21613 non-null  float64\n",
      " 3   bedrooms       21613 non-null  int64  \n",
      " 4   bathrooms      21613 non-null  float64\n",
      " 5   sqft_living    21613 non-null  int64  \n",
      " 6   sqft_lot       21613 non-null  int64  \n",
      " 7   floors         21613 non-null  float64\n",
      " 8   waterfront     21613 non-null  int64  \n",
      " 9   view           21613 non-null  int64  \n",
      " 10  condition      21613 non-null  int64  \n",
      " 11  grade          21613 non-null  int64  \n",
      " 12  sqft_above     21613 non-null  int64  \n",
      " 13  sqft_basement  21613 non-null  int64  \n",
      " 14  yr_built       21613 non-null  int64  \n",
      " 15  yr_renovated   21613 non-null  int64  \n",
      " 16  zipcode        21613 non-null  int64  \n",
      " 17  lat            21613 non-null  float64\n",
      " 18  long           21613 non-null  float64\n",
      " 19  sqft_living15  21613 non-null  int64  \n",
      " 20  sqft_lot15     21613 non-null  int64  \n",
      "dtypes: float64(5), int64(15), object(1)\n",
      "memory usage: 3.5+ MB\n"
     ]
    }
   ],
   "source": [
    "kc_house.info()"
   ]
  },
  {
   "cell_type": "code",
   "execution_count": 25,
   "id": "176b92c3",
   "metadata": {},
   "outputs": [],
   "source": [
    "house_prices = kc_house.price"
   ]
  },
  {
   "cell_type": "code",
   "execution_count": 26,
   "id": "d9e44fa3",
   "metadata": {},
   "outputs": [
    {
     "data": {
      "text/plain": [
       "(21613, 21)"
      ]
     },
     "execution_count": 26,
     "metadata": {},
     "output_type": "execute_result"
    }
   ],
   "source": [
    "kc_house.shape"
   ]
  },
  {
   "cell_type": "code",
   "execution_count": 27,
   "id": "d0f76ae2",
   "metadata": {},
   "outputs": [
    {
     "data": {
      "text/plain": [
       "(21613,)"
      ]
     },
     "execution_count": 27,
     "metadata": {},
     "output_type": "execute_result"
    }
   ],
   "source": [
    "house_prices.shape"
   ]
  },
  {
   "cell_type": "code",
   "execution_count": 28,
   "id": "bf64021e",
   "metadata": {},
   "outputs": [
    {
     "data": {
      "text/plain": [
       "array(['Allen, Miss. Elisabeth Walton', 'Allison, Master. Hudson Trevor',\n",
       "       'Allison, Miss. Helen Loraine', ..., 'Zakarian, Mr. Mapriededer',\n",
       "       'Zakarian, Mr. Ortin', 'Zimmerman, Mr. Leo'], dtype=object)"
      ]
     },
     "execution_count": 28,
     "metadata": {},
     "output_type": "execute_result"
    }
   ],
   "source": [
    "namse.values"
   ]
  },
  {
   "cell_type": "code",
   "execution_count": 29,
   "id": "7e872a3e",
   "metadata": {},
   "outputs": [
    {
     "data": {
      "text/plain": [
       "RangeIndex(start=0, stop=1309, step=1)"
      ]
     },
     "execution_count": 29,
     "metadata": {},
     "output_type": "execute_result"
    }
   ],
   "source": [
    "namse.index"
   ]
  },
  {
   "cell_type": "code",
   "execution_count": 30,
   "id": "8e8257ba",
   "metadata": {},
   "outputs": [
    {
     "data": {
      "text/plain": [
       "0        221900.0\n",
       "1        538000.0\n",
       "2        180000.0\n",
       "3        604000.0\n",
       "4        510000.0\n",
       "           ...   \n",
       "21608    360000.0\n",
       "21609    400000.0\n",
       "21610    402101.0\n",
       "21611    400000.0\n",
       "21612    325000.0\n",
       "Name: price, Length: 21613, dtype: float64"
      ]
     },
     "execution_count": 30,
     "metadata": {},
     "output_type": "execute_result"
    }
   ],
   "source": [
    "house_prices"
   ]
  },
  {
   "cell_type": "code",
   "execution_count": 31,
   "id": "450becfa",
   "metadata": {},
   "outputs": [],
   "source": [
    "mins = kc_house.min(numeric_only=True)"
   ]
  },
  {
   "cell_type": "code",
   "execution_count": 32,
   "id": "5caf2965",
   "metadata": {},
   "outputs": [
    {
     "data": {
      "text/plain": [
       "array([ 1.000102e+06,  7.500000e+04,  0.000000e+00,  0.000000e+00,\n",
       "        2.900000e+02,  5.200000e+02,  1.000000e+00,  0.000000e+00,\n",
       "        0.000000e+00,  1.000000e+00,  1.000000e+00,  2.900000e+02,\n",
       "        0.000000e+00,  1.900000e+03,  0.000000e+00,  9.800100e+04,\n",
       "        4.715590e+01, -1.225190e+02,  3.990000e+02,  6.510000e+02])"
      ]
     },
     "execution_count": 32,
     "metadata": {},
     "output_type": "execute_result"
    }
   ],
   "source": [
    "mins.values"
   ]
  },
  {
   "cell_type": "code",
   "execution_count": 33,
   "id": "788b777b",
   "metadata": {},
   "outputs": [
    {
     "data": {
      "text/plain": [
       "Index(['id', 'price', 'bedrooms', 'bathrooms', 'sqft_living', 'sqft_lot',\n",
       "       'floors', 'waterfront', 'view', 'condition', 'grade', 'sqft_above',\n",
       "       'sqft_basement', 'yr_built', 'yr_renovated', 'zipcode', 'lat', 'long',\n",
       "       'sqft_living15', 'sqft_lot15'],\n",
       "      dtype='object')"
      ]
     },
     "execution_count": 33,
     "metadata": {},
     "output_type": "execute_result"
    }
   ],
   "source": [
    "mins.index"
   ]
  },
  {
   "cell_type": "code",
   "execution_count": 34,
   "id": "9d72858f",
   "metadata": {},
   "outputs": [],
   "source": [
    "rating_net = netflix.rating"
   ]
  },
  {
   "cell_type": "code",
   "execution_count": 35,
   "id": "7f6cee79",
   "metadata": {},
   "outputs": [
    {
     "data": {
      "text/plain": [
       "0    PG-13\n",
       "1    TV-MA\n",
       "2    TV-MA\n",
       "3    TV-MA\n",
       "4    TV-MA\n",
       "5    TV-MA\n",
       "6       PG\n",
       "7    TV-MA\n",
       "8    TV-14\n",
       "9    PG-13\n",
       "Name: rating, dtype: object"
      ]
     },
     "execution_count": 35,
     "metadata": {},
     "output_type": "execute_result"
    }
   ],
   "source": [
    "rating_net.head(10)"
   ]
  },
  {
   "cell_type": "code",
   "execution_count": 36,
   "id": "8ab386df",
   "metadata": {},
   "outputs": [
    {
     "data": {
      "text/plain": [
       "8792       NR\n",
       "8793       PG\n",
       "8794    TV-14\n",
       "8795    TV-Y7\n",
       "8796    TV-PG\n",
       "8797    TV-Y7\n",
       "8798    TV-MA\n",
       "8799    TV-14\n",
       "8800    TV-PG\n",
       "8801    TV-MA\n",
       "8802        R\n",
       "8803    TV-Y7\n",
       "8804        R\n",
       "8805       PG\n",
       "8806    TV-14\n",
       "Name: rating, dtype: object"
      ]
     },
     "execution_count": 36,
     "metadata": {},
     "output_type": "execute_result"
    }
   ],
   "source": [
    "rating_net.tail(15)"
   ]
  },
  {
   "cell_type": "code",
   "execution_count": 37,
   "id": "683db253",
   "metadata": {},
   "outputs": [],
   "source": [
    "first_price = kc_house.price"
   ]
  },
  {
   "cell_type": "code",
   "execution_count": 38,
   "id": "eb5ca161",
   "metadata": {},
   "outputs": [
    {
     "data": {
      "text/plain": [
       "0      221900.0\n",
       "1      538000.0\n",
       "2      180000.0\n",
       "3      604000.0\n",
       "4      510000.0\n",
       "5     1225000.0\n",
       "6      257500.0\n",
       "7      291850.0\n",
       "8      229500.0\n",
       "9      323000.0\n",
       "10     662500.0\n",
       "11     468000.0\n",
       "12     310000.0\n",
       "13     400000.0\n",
       "14     530000.0\n",
       "15     650000.0\n",
       "16     395000.0\n",
       "17     485000.0\n",
       "18     189000.0\n",
       "19     230000.0\n",
       "20     385000.0\n",
       "21    2000000.0\n",
       "22     285000.0\n",
       "23     252700.0\n",
       "24     329000.0\n",
       "25     233000.0\n",
       "26     937000.0\n",
       "27     667000.0\n",
       "28     438000.0\n",
       "29     719000.0\n",
       "30     580500.0\n",
       "31     280000.0\n",
       "32     687500.0\n",
       "33     535000.0\n",
       "34     322500.0\n",
       "35     696000.0\n",
       "36     550000.0\n",
       "37     640000.0\n",
       "38     240000.0\n",
       "39     605000.0\n",
       "Name: price, dtype: float64"
      ]
     },
     "execution_count": 38,
     "metadata": {},
     "output_type": "execute_result"
    }
   ],
   "source": [
    "first_price.head(40)"
   ]
  },
  {
   "cell_type": "code",
   "execution_count": 39,
   "id": "c8beecf5",
   "metadata": {},
   "outputs": [],
   "source": [
    "last_price=kc_house.price"
   ]
  },
  {
   "cell_type": "code",
   "execution_count": 40,
   "id": "7b242846",
   "metadata": {},
   "outputs": [
    {
     "data": {
      "text/html": [
       "<div>\n",
       "<style scoped>\n",
       "    .dataframe tbody tr th:only-of-type {\n",
       "        vertical-align: middle;\n",
       "    }\n",
       "\n",
       "    .dataframe tbody tr th {\n",
       "        vertical-align: top;\n",
       "    }\n",
       "\n",
       "    .dataframe thead th {\n",
       "        text-align: right;\n",
       "    }\n",
       "</style>\n",
       "<table border=\"1\" class=\"dataframe\">\n",
       "  <thead>\n",
       "    <tr style=\"text-align: right;\">\n",
       "      <th></th>\n",
       "      <th>id</th>\n",
       "      <th>date</th>\n",
       "      <th>price</th>\n",
       "      <th>bedrooms</th>\n",
       "      <th>bathrooms</th>\n",
       "      <th>sqft_living</th>\n",
       "      <th>sqft_lot</th>\n",
       "      <th>floors</th>\n",
       "      <th>waterfront</th>\n",
       "      <th>view</th>\n",
       "      <th>...</th>\n",
       "      <th>grade</th>\n",
       "      <th>sqft_above</th>\n",
       "      <th>sqft_basement</th>\n",
       "      <th>yr_built</th>\n",
       "      <th>yr_renovated</th>\n",
       "      <th>zipcode</th>\n",
       "      <th>lat</th>\n",
       "      <th>long</th>\n",
       "      <th>sqft_living15</th>\n",
       "      <th>sqft_lot15</th>\n",
       "    </tr>\n",
       "  </thead>\n",
       "  <tbody>\n",
       "    <tr>\n",
       "      <th>0</th>\n",
       "      <td>7129300520</td>\n",
       "      <td>20141013T000000</td>\n",
       "      <td>221900.0</td>\n",
       "      <td>3</td>\n",
       "      <td>1.00</td>\n",
       "      <td>1180</td>\n",
       "      <td>5650</td>\n",
       "      <td>1.0</td>\n",
       "      <td>0</td>\n",
       "      <td>0</td>\n",
       "      <td>...</td>\n",
       "      <td>7</td>\n",
       "      <td>1180</td>\n",
       "      <td>0</td>\n",
       "      <td>1955</td>\n",
       "      <td>0</td>\n",
       "      <td>98178</td>\n",
       "      <td>47.5112</td>\n",
       "      <td>-122.257</td>\n",
       "      <td>1340</td>\n",
       "      <td>5650</td>\n",
       "    </tr>\n",
       "    <tr>\n",
       "      <th>1</th>\n",
       "      <td>6414100192</td>\n",
       "      <td>20141209T000000</td>\n",
       "      <td>538000.0</td>\n",
       "      <td>3</td>\n",
       "      <td>2.25</td>\n",
       "      <td>2570</td>\n",
       "      <td>7242</td>\n",
       "      <td>2.0</td>\n",
       "      <td>0</td>\n",
       "      <td>0</td>\n",
       "      <td>...</td>\n",
       "      <td>7</td>\n",
       "      <td>2170</td>\n",
       "      <td>400</td>\n",
       "      <td>1951</td>\n",
       "      <td>1991</td>\n",
       "      <td>98125</td>\n",
       "      <td>47.7210</td>\n",
       "      <td>-122.319</td>\n",
       "      <td>1690</td>\n",
       "      <td>7639</td>\n",
       "    </tr>\n",
       "    <tr>\n",
       "      <th>2</th>\n",
       "      <td>5631500400</td>\n",
       "      <td>20150225T000000</td>\n",
       "      <td>180000.0</td>\n",
       "      <td>2</td>\n",
       "      <td>1.00</td>\n",
       "      <td>770</td>\n",
       "      <td>10000</td>\n",
       "      <td>1.0</td>\n",
       "      <td>0</td>\n",
       "      <td>0</td>\n",
       "      <td>...</td>\n",
       "      <td>6</td>\n",
       "      <td>770</td>\n",
       "      <td>0</td>\n",
       "      <td>1933</td>\n",
       "      <td>0</td>\n",
       "      <td>98028</td>\n",
       "      <td>47.7379</td>\n",
       "      <td>-122.233</td>\n",
       "      <td>2720</td>\n",
       "      <td>8062</td>\n",
       "    </tr>\n",
       "    <tr>\n",
       "      <th>3</th>\n",
       "      <td>2487200875</td>\n",
       "      <td>20141209T000000</td>\n",
       "      <td>604000.0</td>\n",
       "      <td>4</td>\n",
       "      <td>3.00</td>\n",
       "      <td>1960</td>\n",
       "      <td>5000</td>\n",
       "      <td>1.0</td>\n",
       "      <td>0</td>\n",
       "      <td>0</td>\n",
       "      <td>...</td>\n",
       "      <td>7</td>\n",
       "      <td>1050</td>\n",
       "      <td>910</td>\n",
       "      <td>1965</td>\n",
       "      <td>0</td>\n",
       "      <td>98136</td>\n",
       "      <td>47.5208</td>\n",
       "      <td>-122.393</td>\n",
       "      <td>1360</td>\n",
       "      <td>5000</td>\n",
       "    </tr>\n",
       "    <tr>\n",
       "      <th>4</th>\n",
       "      <td>1954400510</td>\n",
       "      <td>20150218T000000</td>\n",
       "      <td>510000.0</td>\n",
       "      <td>3</td>\n",
       "      <td>2.00</td>\n",
       "      <td>1680</td>\n",
       "      <td>8080</td>\n",
       "      <td>1.0</td>\n",
       "      <td>0</td>\n",
       "      <td>0</td>\n",
       "      <td>...</td>\n",
       "      <td>8</td>\n",
       "      <td>1680</td>\n",
       "      <td>0</td>\n",
       "      <td>1987</td>\n",
       "      <td>0</td>\n",
       "      <td>98074</td>\n",
       "      <td>47.6168</td>\n",
       "      <td>-122.045</td>\n",
       "      <td>1800</td>\n",
       "      <td>7503</td>\n",
       "    </tr>\n",
       "  </tbody>\n",
       "</table>\n",
       "<p>5 rows × 21 columns</p>\n",
       "</div>"
      ],
      "text/plain": [
       "           id             date     price  bedrooms  bathrooms  sqft_living  \\\n",
       "0  7129300520  20141013T000000  221900.0         3       1.00         1180   \n",
       "1  6414100192  20141209T000000  538000.0         3       2.25         2570   \n",
       "2  5631500400  20150225T000000  180000.0         2       1.00          770   \n",
       "3  2487200875  20141209T000000  604000.0         4       3.00         1960   \n",
       "4  1954400510  20150218T000000  510000.0         3       2.00         1680   \n",
       "\n",
       "   sqft_lot  floors  waterfront  view  ...  grade  sqft_above  sqft_basement  \\\n",
       "0      5650     1.0           0     0  ...      7        1180              0   \n",
       "1      7242     2.0           0     0  ...      7        2170            400   \n",
       "2     10000     1.0           0     0  ...      6         770              0   \n",
       "3      5000     1.0           0     0  ...      7        1050            910   \n",
       "4      8080     1.0           0     0  ...      8        1680              0   \n",
       "\n",
       "   yr_built  yr_renovated  zipcode      lat     long  sqft_living15  \\\n",
       "0      1955             0    98178  47.5112 -122.257           1340   \n",
       "1      1951          1991    98125  47.7210 -122.319           1690   \n",
       "2      1933             0    98028  47.7379 -122.233           2720   \n",
       "3      1965             0    98136  47.5208 -122.393           1360   \n",
       "4      1987             0    98074  47.6168 -122.045           1800   \n",
       "\n",
       "   sqft_lot15  \n",
       "0        5650  \n",
       "1        7639  \n",
       "2        8062  \n",
       "3        5000  \n",
       "4        7503  \n",
       "\n",
       "[5 rows x 21 columns]"
      ]
     },
     "execution_count": 40,
     "metadata": {},
     "output_type": "execute_result"
    }
   ],
   "source": [
    "kc_house.head()"
   ]
  },
  {
   "cell_type": "code",
   "execution_count": 41,
   "id": "24689328",
   "metadata": {},
   "outputs": [
    {
     "data": {
      "text/plain": [
       "21573     785000.0\n",
       "21574     610950.0\n",
       "21575     399950.0\n",
       "21576    3567000.0\n",
       "21577     579000.0\n",
       "21578     362500.0\n",
       "21579     645000.0\n",
       "21580     594866.0\n",
       "21581     625000.0\n",
       "21582     490000.0\n",
       "21583     399950.0\n",
       "21584     380000.0\n",
       "21585     270000.0\n",
       "21586     505000.0\n",
       "21587     385000.0\n",
       "21588     414500.0\n",
       "21589     347500.0\n",
       "21590    1222500.0\n",
       "21591     572000.0\n",
       "21592     475000.0\n",
       "21593    1088000.0\n",
       "21594     350000.0\n",
       "21595     520000.0\n",
       "21596     679950.0\n",
       "21597    1575000.0\n",
       "21598     541800.0\n",
       "21599     810000.0\n",
       "21600    1537000.0\n",
       "21601     467000.0\n",
       "21602     224000.0\n",
       "21603     507250.0\n",
       "21604     429000.0\n",
       "21605     610685.0\n",
       "21606    1007500.0\n",
       "21607     475000.0\n",
       "21608     360000.0\n",
       "21609     400000.0\n",
       "21610     402101.0\n",
       "21611     400000.0\n",
       "21612     325000.0\n",
       "Name: price, dtype: float64"
      ]
     },
     "execution_count": 41,
     "metadata": {},
     "output_type": "execute_result"
    }
   ],
   "source": [
    "last_price.tail(40)"
   ]
  },
  {
   "cell_type": "code",
   "execution_count": 42,
   "id": "92ab05aa",
   "metadata": {},
   "outputs": [
    {
     "data": {
      "text/html": [
       "<div>\n",
       "<style scoped>\n",
       "    .dataframe tbody tr th:only-of-type {\n",
       "        vertical-align: middle;\n",
       "    }\n",
       "\n",
       "    .dataframe tbody tr th {\n",
       "        vertical-align: top;\n",
       "    }\n",
       "\n",
       "    .dataframe thead th {\n",
       "        text-align: right;\n",
       "    }\n",
       "</style>\n",
       "<table border=\"1\" class=\"dataframe\">\n",
       "  <thead>\n",
       "    <tr style=\"text-align: right;\">\n",
       "      <th></th>\n",
       "      <th>id</th>\n",
       "      <th>price</th>\n",
       "      <th>bedrooms</th>\n",
       "      <th>bathrooms</th>\n",
       "      <th>sqft_living</th>\n",
       "      <th>sqft_lot</th>\n",
       "      <th>floors</th>\n",
       "      <th>waterfront</th>\n",
       "      <th>view</th>\n",
       "      <th>condition</th>\n",
       "      <th>grade</th>\n",
       "      <th>sqft_above</th>\n",
       "      <th>sqft_basement</th>\n",
       "      <th>yr_built</th>\n",
       "      <th>yr_renovated</th>\n",
       "      <th>zipcode</th>\n",
       "      <th>lat</th>\n",
       "      <th>long</th>\n",
       "      <th>sqft_living15</th>\n",
       "      <th>sqft_lot15</th>\n",
       "    </tr>\n",
       "  </thead>\n",
       "  <tbody>\n",
       "    <tr>\n",
       "      <th>count</th>\n",
       "      <td>2.161300e+04</td>\n",
       "      <td>2.161300e+04</td>\n",
       "      <td>21613.000000</td>\n",
       "      <td>21613.000000</td>\n",
       "      <td>21613.000000</td>\n",
       "      <td>2.161300e+04</td>\n",
       "      <td>21613.000000</td>\n",
       "      <td>21613.000000</td>\n",
       "      <td>21613.000000</td>\n",
       "      <td>21613.000000</td>\n",
       "      <td>21613.000000</td>\n",
       "      <td>21613.000000</td>\n",
       "      <td>21613.000000</td>\n",
       "      <td>21613.000000</td>\n",
       "      <td>21613.000000</td>\n",
       "      <td>21613.000000</td>\n",
       "      <td>21613.000000</td>\n",
       "      <td>21613.000000</td>\n",
       "      <td>21613.000000</td>\n",
       "      <td>21613.000000</td>\n",
       "    </tr>\n",
       "    <tr>\n",
       "      <th>mean</th>\n",
       "      <td>4.580302e+09</td>\n",
       "      <td>5.400881e+05</td>\n",
       "      <td>3.370842</td>\n",
       "      <td>2.114757</td>\n",
       "      <td>2079.899736</td>\n",
       "      <td>1.510697e+04</td>\n",
       "      <td>1.494309</td>\n",
       "      <td>0.007542</td>\n",
       "      <td>0.234303</td>\n",
       "      <td>3.409430</td>\n",
       "      <td>7.656873</td>\n",
       "      <td>1788.390691</td>\n",
       "      <td>291.509045</td>\n",
       "      <td>1971.005136</td>\n",
       "      <td>84.402258</td>\n",
       "      <td>98077.939805</td>\n",
       "      <td>47.560053</td>\n",
       "      <td>-122.213896</td>\n",
       "      <td>1986.552492</td>\n",
       "      <td>12768.455652</td>\n",
       "    </tr>\n",
       "    <tr>\n",
       "      <th>std</th>\n",
       "      <td>2.876566e+09</td>\n",
       "      <td>3.671272e+05</td>\n",
       "      <td>0.930062</td>\n",
       "      <td>0.770163</td>\n",
       "      <td>918.440897</td>\n",
       "      <td>4.142051e+04</td>\n",
       "      <td>0.539989</td>\n",
       "      <td>0.086517</td>\n",
       "      <td>0.766318</td>\n",
       "      <td>0.650743</td>\n",
       "      <td>1.175459</td>\n",
       "      <td>828.090978</td>\n",
       "      <td>442.575043</td>\n",
       "      <td>29.373411</td>\n",
       "      <td>401.679240</td>\n",
       "      <td>53.505026</td>\n",
       "      <td>0.138564</td>\n",
       "      <td>0.140828</td>\n",
       "      <td>685.391304</td>\n",
       "      <td>27304.179631</td>\n",
       "    </tr>\n",
       "    <tr>\n",
       "      <th>min</th>\n",
       "      <td>1.000102e+06</td>\n",
       "      <td>7.500000e+04</td>\n",
       "      <td>0.000000</td>\n",
       "      <td>0.000000</td>\n",
       "      <td>290.000000</td>\n",
       "      <td>5.200000e+02</td>\n",
       "      <td>1.000000</td>\n",
       "      <td>0.000000</td>\n",
       "      <td>0.000000</td>\n",
       "      <td>1.000000</td>\n",
       "      <td>1.000000</td>\n",
       "      <td>290.000000</td>\n",
       "      <td>0.000000</td>\n",
       "      <td>1900.000000</td>\n",
       "      <td>0.000000</td>\n",
       "      <td>98001.000000</td>\n",
       "      <td>47.155900</td>\n",
       "      <td>-122.519000</td>\n",
       "      <td>399.000000</td>\n",
       "      <td>651.000000</td>\n",
       "    </tr>\n",
       "    <tr>\n",
       "      <th>25%</th>\n",
       "      <td>2.123049e+09</td>\n",
       "      <td>3.219500e+05</td>\n",
       "      <td>3.000000</td>\n",
       "      <td>1.750000</td>\n",
       "      <td>1427.000000</td>\n",
       "      <td>5.040000e+03</td>\n",
       "      <td>1.000000</td>\n",
       "      <td>0.000000</td>\n",
       "      <td>0.000000</td>\n",
       "      <td>3.000000</td>\n",
       "      <td>7.000000</td>\n",
       "      <td>1190.000000</td>\n",
       "      <td>0.000000</td>\n",
       "      <td>1951.000000</td>\n",
       "      <td>0.000000</td>\n",
       "      <td>98033.000000</td>\n",
       "      <td>47.471000</td>\n",
       "      <td>-122.328000</td>\n",
       "      <td>1490.000000</td>\n",
       "      <td>5100.000000</td>\n",
       "    </tr>\n",
       "    <tr>\n",
       "      <th>50%</th>\n",
       "      <td>3.904930e+09</td>\n",
       "      <td>4.500000e+05</td>\n",
       "      <td>3.000000</td>\n",
       "      <td>2.250000</td>\n",
       "      <td>1910.000000</td>\n",
       "      <td>7.618000e+03</td>\n",
       "      <td>1.500000</td>\n",
       "      <td>0.000000</td>\n",
       "      <td>0.000000</td>\n",
       "      <td>3.000000</td>\n",
       "      <td>7.000000</td>\n",
       "      <td>1560.000000</td>\n",
       "      <td>0.000000</td>\n",
       "      <td>1975.000000</td>\n",
       "      <td>0.000000</td>\n",
       "      <td>98065.000000</td>\n",
       "      <td>47.571800</td>\n",
       "      <td>-122.230000</td>\n",
       "      <td>1840.000000</td>\n",
       "      <td>7620.000000</td>\n",
       "    </tr>\n",
       "    <tr>\n",
       "      <th>75%</th>\n",
       "      <td>7.308900e+09</td>\n",
       "      <td>6.450000e+05</td>\n",
       "      <td>4.000000</td>\n",
       "      <td>2.500000</td>\n",
       "      <td>2550.000000</td>\n",
       "      <td>1.068800e+04</td>\n",
       "      <td>2.000000</td>\n",
       "      <td>0.000000</td>\n",
       "      <td>0.000000</td>\n",
       "      <td>4.000000</td>\n",
       "      <td>8.000000</td>\n",
       "      <td>2210.000000</td>\n",
       "      <td>560.000000</td>\n",
       "      <td>1997.000000</td>\n",
       "      <td>0.000000</td>\n",
       "      <td>98118.000000</td>\n",
       "      <td>47.678000</td>\n",
       "      <td>-122.125000</td>\n",
       "      <td>2360.000000</td>\n",
       "      <td>10083.000000</td>\n",
       "    </tr>\n",
       "    <tr>\n",
       "      <th>max</th>\n",
       "      <td>9.900000e+09</td>\n",
       "      <td>7.700000e+06</td>\n",
       "      <td>33.000000</td>\n",
       "      <td>8.000000</td>\n",
       "      <td>13540.000000</td>\n",
       "      <td>1.651359e+06</td>\n",
       "      <td>3.500000</td>\n",
       "      <td>1.000000</td>\n",
       "      <td>4.000000</td>\n",
       "      <td>5.000000</td>\n",
       "      <td>13.000000</td>\n",
       "      <td>9410.000000</td>\n",
       "      <td>4820.000000</td>\n",
       "      <td>2015.000000</td>\n",
       "      <td>2015.000000</td>\n",
       "      <td>98199.000000</td>\n",
       "      <td>47.777600</td>\n",
       "      <td>-121.315000</td>\n",
       "      <td>6210.000000</td>\n",
       "      <td>871200.000000</td>\n",
       "    </tr>\n",
       "  </tbody>\n",
       "</table>\n",
       "</div>"
      ],
      "text/plain": [
       "                 id         price      bedrooms     bathrooms   sqft_living  \\\n",
       "count  2.161300e+04  2.161300e+04  21613.000000  21613.000000  21613.000000   \n",
       "mean   4.580302e+09  5.400881e+05      3.370842      2.114757   2079.899736   \n",
       "std    2.876566e+09  3.671272e+05      0.930062      0.770163    918.440897   \n",
       "min    1.000102e+06  7.500000e+04      0.000000      0.000000    290.000000   \n",
       "25%    2.123049e+09  3.219500e+05      3.000000      1.750000   1427.000000   \n",
       "50%    3.904930e+09  4.500000e+05      3.000000      2.250000   1910.000000   \n",
       "75%    7.308900e+09  6.450000e+05      4.000000      2.500000   2550.000000   \n",
       "max    9.900000e+09  7.700000e+06     33.000000      8.000000  13540.000000   \n",
       "\n",
       "           sqft_lot        floors    waterfront          view     condition  \\\n",
       "count  2.161300e+04  21613.000000  21613.000000  21613.000000  21613.000000   \n",
       "mean   1.510697e+04      1.494309      0.007542      0.234303      3.409430   \n",
       "std    4.142051e+04      0.539989      0.086517      0.766318      0.650743   \n",
       "min    5.200000e+02      1.000000      0.000000      0.000000      1.000000   \n",
       "25%    5.040000e+03      1.000000      0.000000      0.000000      3.000000   \n",
       "50%    7.618000e+03      1.500000      0.000000      0.000000      3.000000   \n",
       "75%    1.068800e+04      2.000000      0.000000      0.000000      4.000000   \n",
       "max    1.651359e+06      3.500000      1.000000      4.000000      5.000000   \n",
       "\n",
       "              grade    sqft_above  sqft_basement      yr_built  yr_renovated  \\\n",
       "count  21613.000000  21613.000000   21613.000000  21613.000000  21613.000000   \n",
       "mean       7.656873   1788.390691     291.509045   1971.005136     84.402258   \n",
       "std        1.175459    828.090978     442.575043     29.373411    401.679240   \n",
       "min        1.000000    290.000000       0.000000   1900.000000      0.000000   \n",
       "25%        7.000000   1190.000000       0.000000   1951.000000      0.000000   \n",
       "50%        7.000000   1560.000000       0.000000   1975.000000      0.000000   \n",
       "75%        8.000000   2210.000000     560.000000   1997.000000      0.000000   \n",
       "max       13.000000   9410.000000    4820.000000   2015.000000   2015.000000   \n",
       "\n",
       "            zipcode           lat          long  sqft_living15     sqft_lot15  \n",
       "count  21613.000000  21613.000000  21613.000000   21613.000000   21613.000000  \n",
       "mean   98077.939805     47.560053   -122.213896    1986.552492   12768.455652  \n",
       "std       53.505026      0.138564      0.140828     685.391304   27304.179631  \n",
       "min    98001.000000     47.155900   -122.519000     399.000000     651.000000  \n",
       "25%    98033.000000     47.471000   -122.328000    1490.000000    5100.000000  \n",
       "50%    98065.000000     47.571800   -122.230000    1840.000000    7620.000000  \n",
       "75%    98118.000000     47.678000   -122.125000    2360.000000   10083.000000  \n",
       "max    98199.000000     47.777600   -121.315000    6210.000000  871200.000000  "
      ]
     },
     "execution_count": 42,
     "metadata": {},
     "output_type": "execute_result"
    }
   ],
   "source": [
    "kc_house.describe()"
   ]
  },
  {
   "cell_type": "code",
   "execution_count": 43,
   "id": "c689392e",
   "metadata": {},
   "outputs": [
    {
     "data": {
      "text/plain": [
       "count    2.161300e+04\n",
       "mean     5.400881e+05\n",
       "std      3.671272e+05\n",
       "min      7.500000e+04\n",
       "25%      3.219500e+05\n",
       "50%      4.500000e+05\n",
       "75%      6.450000e+05\n",
       "max      7.700000e+06\n",
       "Name: price, dtype: float64"
      ]
     },
     "execution_count": 43,
     "metadata": {},
     "output_type": "execute_result"
    }
   ],
   "source": [
    "kc_house['price'].describe()"
   ]
  },
  {
   "cell_type": "code",
   "execution_count": 44,
   "id": "dbfdacc4",
   "metadata": {},
   "outputs": [
    {
     "data": {
      "text/plain": [
       "count    2.161300e+04\n",
       "mean     5.400881e+05\n",
       "std      3.671272e+05\n",
       "min      7.500000e+04\n",
       "25%      3.219500e+05\n",
       "50%      4.500000e+05\n",
       "75%      6.450000e+05\n",
       "max      7.700000e+06\n",
       "Name: price, dtype: float64"
      ]
     },
     "execution_count": 44,
     "metadata": {},
     "output_type": "execute_result"
    }
   ],
   "source": [
    "first_price.describe()"
   ]
  },
  {
   "cell_type": "code",
   "execution_count": 45,
   "id": "ed2dbdf2",
   "metadata": {},
   "outputs": [
    {
     "data": {
      "text/plain": [
       "count    2.161300e+04\n",
       "mean     5.400881e+05\n",
       "std      3.671272e+05\n",
       "min      7.500000e+04\n",
       "25%      3.219500e+05\n",
       "50%      4.500000e+05\n",
       "75%      6.450000e+05\n",
       "max      7.700000e+06\n",
       "Name: price, dtype: float64"
      ]
     },
     "execution_count": 45,
     "metadata": {},
     "output_type": "execute_result"
    }
   ],
   "source": [
    "last_price.describe()"
   ]
  },
  {
   "cell_type": "code",
   "execution_count": 46,
   "id": "e10ac409",
   "metadata": {},
   "outputs": [
    {
     "data": {
      "text/plain": [
       "count      8803\n",
       "unique       17\n",
       "top       TV-MA\n",
       "freq       3207\n",
       "Name: rating, dtype: object"
      ]
     },
     "execution_count": 46,
     "metadata": {},
     "output_type": "execute_result"
    }
   ],
   "source": [
    "netflix['rating'].describe()"
   ]
  },
  {
   "cell_type": "code",
   "execution_count": 47,
   "id": "772adc40",
   "metadata": {},
   "outputs": [
    {
     "data": {
      "text/plain": [
       "show_id         object\n",
       "type            object\n",
       "title           object\n",
       "director        object\n",
       "cast            object\n",
       "country         object\n",
       "date_added      object\n",
       "release_year     int64\n",
       "rating          object\n",
       "duration        object\n",
       "listed_in       object\n",
       "description     object\n",
       "dtype: object"
      ]
     },
     "execution_count": 47,
     "metadata": {},
     "output_type": "execute_result"
    }
   ],
   "source": [
    "netflix.dtypes"
   ]
  },
  {
   "cell_type": "code",
   "execution_count": 48,
   "id": "fd551368",
   "metadata": {},
   "outputs": [
    {
     "data": {
      "text/plain": [
       "count    8807.000000\n",
       "mean     2014.180198\n",
       "std         8.819312\n",
       "min      1925.000000\n",
       "25%      2013.000000\n",
       "50%      2017.000000\n",
       "75%      2019.000000\n",
       "max      2021.000000\n",
       "Name: release_year, dtype: float64"
      ]
     },
     "execution_count": 48,
     "metadata": {},
     "output_type": "execute_result"
    }
   ],
   "source": [
    "netflix['release_year'].describe()"
   ]
  },
  {
   "cell_type": "code",
   "execution_count": 49,
   "id": "f70b4a7d",
   "metadata": {},
   "outputs": [
    {
     "data": {
      "text/plain": [
       "id                 int64\n",
       "date              object\n",
       "price            float64\n",
       "bedrooms           int64\n",
       "bathrooms        float64\n",
       "sqft_living        int64\n",
       "sqft_lot           int64\n",
       "floors           float64\n",
       "waterfront         int64\n",
       "view               int64\n",
       "condition          int64\n",
       "grade              int64\n",
       "sqft_above         int64\n",
       "sqft_basement      int64\n",
       "yr_built           int64\n",
       "yr_renovated       int64\n",
       "zipcode            int64\n",
       "lat              float64\n",
       "long             float64\n",
       "sqft_living15      int64\n",
       "sqft_lot15         int64\n",
       "dtype: object"
      ]
     },
     "execution_count": 49,
     "metadata": {},
     "output_type": "execute_result"
    }
   ],
   "source": [
    "kc_house.dtypes"
   ]
  },
  {
   "cell_type": "code",
   "execution_count": 50,
   "id": "8bd14e3e",
   "metadata": {},
   "outputs": [
    {
     "data": {
      "text/plain": [
       "array([ 3,  2,  4,  5,  1,  6,  7,  0,  8,  9, 11, 10, 33], dtype=int64)"
      ]
     },
     "execution_count": 50,
     "metadata": {},
     "output_type": "execute_result"
    }
   ],
   "source": [
    "kc_house.bedrooms.unique()"
   ]
  },
  {
   "cell_type": "code",
   "execution_count": 51,
   "id": "942c1dd9",
   "metadata": {},
   "outputs": [
    {
     "data": {
      "text/plain": [
       "array([1. , 2. , 1.5, 3. , 2.5, 3.5])"
      ]
     },
     "execution_count": 51,
     "metadata": {},
     "output_type": "execute_result"
    }
   ],
   "source": [
    "kc_house.floors.unique()"
   ]
  },
  {
   "cell_type": "code",
   "execution_count": 52,
   "id": "be39b1a4",
   "metadata": {},
   "outputs": [
    {
     "data": {
      "text/plain": [
       "pclass        int64\n",
       "survived      int64\n",
       "name         object\n",
       "sex          object\n",
       "age          object\n",
       "sibsp         int64\n",
       "parch         int64\n",
       "ticket       object\n",
       "fare         object\n",
       "cabin        object\n",
       "embarked     object\n",
       "boat         object\n",
       "body         object\n",
       "home.dest    object\n",
       "dtype: object"
      ]
     },
     "execution_count": 52,
     "metadata": {},
     "output_type": "execute_result"
    }
   ],
   "source": [
    "titanic.dtypes"
   ]
  },
  {
   "cell_type": "code",
   "execution_count": 53,
   "id": "163b6510",
   "metadata": {},
   "outputs": [
    {
     "data": {
      "text/plain": [
       "array([1, 0], dtype=int64)"
      ]
     },
     "execution_count": 53,
     "metadata": {},
     "output_type": "execute_result"
    }
   ],
   "source": [
    "titanic.survived.unique()"
   ]
  },
  {
   "cell_type": "code",
   "execution_count": 54,
   "id": "e4ee7512",
   "metadata": {},
   "outputs": [
    {
     "data": {
      "text/plain": [
       "array([98178, 98125, 98028, 98136, 98074, 98053, 98003, 98198, 98146,\n",
       "       98038, 98007, 98115, 98107, 98126, 98019, 98103, 98002, 98133,\n",
       "       98040, 98092, 98030, 98119, 98112, 98052, 98027, 98117, 98058,\n",
       "       98001, 98056, 98166, 98023, 98070, 98148, 98105, 98042, 98008,\n",
       "       98059, 98122, 98144, 98004, 98005, 98034, 98075, 98116, 98010,\n",
       "       98118, 98199, 98032, 98045, 98102, 98077, 98108, 98168, 98177,\n",
       "       98065, 98029, 98006, 98109, 98022, 98033, 98155, 98024, 98011,\n",
       "       98031, 98106, 98072, 98188, 98014, 98055, 98039], dtype=int64)"
      ]
     },
     "execution_count": 54,
     "metadata": {},
     "output_type": "execute_result"
    }
   ],
   "source": [
    "kc_house.zipcode.unique()"
   ]
  },
  {
   "cell_type": "markdown",
   "id": "c95689c7",
   "metadata": {},
   "source": [
    "# Note\n",
    "####  press shift and tab for more information"
   ]
  },
  {
   "cell_type": "code",
   "execution_count": 55,
   "id": "08dd4d5c",
   "metadata": {},
   "outputs": [
    {
     "data": {
      "text/plain": [
       "70"
      ]
     },
     "execution_count": 55,
     "metadata": {},
     "output_type": "execute_result"
    }
   ],
   "source": [
    "kc_house.zipcode.nunique()"
   ]
  },
  {
   "cell_type": "markdown",
   "id": "5f594ecb",
   "metadata": {},
   "source": [
    "# Note\n",
    "* for count all the uniqe value such as NAN you most use dropna= in nuniq\n",
    "* this is use for missing value\n",
    "* you most set the dropna to false"
   ]
  },
  {
   "cell_type": "code",
   "execution_count": 56,
   "id": "fd254272",
   "metadata": {},
   "outputs": [
    {
     "data": {
      "text/plain": [
       "18"
      ]
     },
     "execution_count": 56,
     "metadata": {},
     "output_type": "execute_result"
    }
   ],
   "source": [
    "netflix.rating.nunique(dropna=False)"
   ]
  },
  {
   "cell_type": "code",
   "execution_count": 57,
   "id": "c5b2d2c1",
   "metadata": {},
   "outputs": [
    {
     "data": {
      "text/plain": [
       "17"
      ]
     },
     "execution_count": 57,
     "metadata": {},
     "output_type": "execute_result"
    }
   ],
   "source": [
    "netflix.rating.nunique(dropna=True)"
   ]
  },
  {
   "cell_type": "code",
   "execution_count": 58,
   "id": "2da8c511",
   "metadata": {},
   "outputs": [
    {
     "data": {
      "text/plain": [
       "7693"
      ]
     },
     "execution_count": 58,
     "metadata": {},
     "output_type": "execute_result"
    }
   ],
   "source": [
    "netflix.cast.nunique(dropna=False)"
   ]
  },
  {
   "cell_type": "markdown",
   "id": "3f1fa08b",
   "metadata": {},
   "source": [
    "# Note\n",
    "* nlargest for find the largest for example price in datasets\n",
    "* nsmallest for fund the n smallest price in the datasets"
   ]
  },
  {
   "cell_type": "code",
   "execution_count": 59,
   "id": "aef069ac",
   "metadata": {},
   "outputs": [
    {
     "data": {
      "text/plain": [
       "7252    7700000.0\n",
       "3914    7062500.0\n",
       "9254    6885000.0\n",
       "4411    5570000.0\n",
       "1448    5350000.0\n",
       "1315    5300000.0\n",
       "1164    5110800.0\n",
       "8092    4668000.0\n",
       "2626    4500000.0\n",
       "8638    4489000.0\n",
       "Name: price, dtype: float64"
      ]
     },
     "execution_count": 59,
     "metadata": {},
     "output_type": "execute_result"
    }
   ],
   "source": [
    "kc_house.price.nlargest(10)"
   ]
  },
  {
   "cell_type": "code",
   "execution_count": 60,
   "id": "addad89a",
   "metadata": {},
   "outputs": [
    {
     "data": {
      "text/plain": [
       "1149     75000.0\n",
       "15293    78000.0\n",
       "465      80000.0\n",
       "16198    81000.0\n",
       "8274     82000.0\n",
       "2141     82500.0\n",
       "18468    83000.0\n",
       "3767     84000.0\n",
       "10253    85000.0\n",
       "16714    85000.0\n",
       "Name: price, dtype: float64"
      ]
     },
     "execution_count": 60,
     "metadata": {},
     "output_type": "execute_result"
    }
   ],
   "source": [
    "kc_house.price.nsmallest(10)"
   ]
  },
  {
   "cell_type": "code",
   "execution_count": 61,
   "id": "25553508",
   "metadata": {},
   "outputs": [
    {
     "data": {
      "text/plain": [
       "600     3\n",
       "601     3\n",
       "602     3\n",
       "603     3\n",
       "604     3\n",
       "       ..\n",
       "1304    3\n",
       "1305    3\n",
       "1306    3\n",
       "1307    3\n",
       "1308    3\n",
       "Name: pclass, Length: 709, dtype: int64"
      ]
     },
     "execution_count": 61,
     "metadata": {},
     "output_type": "execute_result"
    }
   ],
   "source": [
    "titanic.pclass.nlargest(10, keep='all')"
   ]
  },
  {
   "cell_type": "code",
   "execution_count": 62,
   "id": "e951f0cf",
   "metadata": {},
   "outputs": [
    {
     "data": {
      "text/html": [
       "<div>\n",
       "<style scoped>\n",
       "    .dataframe tbody tr th:only-of-type {\n",
       "        vertical-align: middle;\n",
       "    }\n",
       "\n",
       "    .dataframe tbody tr th {\n",
       "        vertical-align: top;\n",
       "    }\n",
       "\n",
       "    .dataframe thead th {\n",
       "        text-align: right;\n",
       "    }\n",
       "</style>\n",
       "<table border=\"1\" class=\"dataframe\">\n",
       "  <thead>\n",
       "    <tr style=\"text-align: right;\">\n",
       "      <th></th>\n",
       "      <th>id</th>\n",
       "      <th>date</th>\n",
       "      <th>price</th>\n",
       "      <th>bedrooms</th>\n",
       "      <th>bathrooms</th>\n",
       "      <th>sqft_living</th>\n",
       "      <th>sqft_lot</th>\n",
       "      <th>floors</th>\n",
       "      <th>waterfront</th>\n",
       "      <th>view</th>\n",
       "      <th>...</th>\n",
       "      <th>grade</th>\n",
       "      <th>sqft_above</th>\n",
       "      <th>sqft_basement</th>\n",
       "      <th>yr_built</th>\n",
       "      <th>yr_renovated</th>\n",
       "      <th>zipcode</th>\n",
       "      <th>lat</th>\n",
       "      <th>long</th>\n",
       "      <th>sqft_living15</th>\n",
       "      <th>sqft_lot15</th>\n",
       "    </tr>\n",
       "  </thead>\n",
       "  <tbody>\n",
       "    <tr>\n",
       "      <th>7252</th>\n",
       "      <td>6762700020</td>\n",
       "      <td>20141013T000000</td>\n",
       "      <td>7700000.0</td>\n",
       "      <td>6</td>\n",
       "      <td>8.00</td>\n",
       "      <td>12050</td>\n",
       "      <td>27600</td>\n",
       "      <td>2.5</td>\n",
       "      <td>0</td>\n",
       "      <td>3</td>\n",
       "      <td>...</td>\n",
       "      <td>13</td>\n",
       "      <td>8570</td>\n",
       "      <td>3480</td>\n",
       "      <td>1910</td>\n",
       "      <td>1987</td>\n",
       "      <td>98102</td>\n",
       "      <td>47.6298</td>\n",
       "      <td>-122.323</td>\n",
       "      <td>3940</td>\n",
       "      <td>8800</td>\n",
       "    </tr>\n",
       "    <tr>\n",
       "      <th>3914</th>\n",
       "      <td>9808700762</td>\n",
       "      <td>20140611T000000</td>\n",
       "      <td>7062500.0</td>\n",
       "      <td>5</td>\n",
       "      <td>4.50</td>\n",
       "      <td>10040</td>\n",
       "      <td>37325</td>\n",
       "      <td>2.0</td>\n",
       "      <td>1</td>\n",
       "      <td>2</td>\n",
       "      <td>...</td>\n",
       "      <td>11</td>\n",
       "      <td>7680</td>\n",
       "      <td>2360</td>\n",
       "      <td>1940</td>\n",
       "      <td>2001</td>\n",
       "      <td>98004</td>\n",
       "      <td>47.6500</td>\n",
       "      <td>-122.214</td>\n",
       "      <td>3930</td>\n",
       "      <td>25449</td>\n",
       "    </tr>\n",
       "    <tr>\n",
       "      <th>9254</th>\n",
       "      <td>9208900037</td>\n",
       "      <td>20140919T000000</td>\n",
       "      <td>6885000.0</td>\n",
       "      <td>6</td>\n",
       "      <td>7.75</td>\n",
       "      <td>9890</td>\n",
       "      <td>31374</td>\n",
       "      <td>2.0</td>\n",
       "      <td>0</td>\n",
       "      <td>4</td>\n",
       "      <td>...</td>\n",
       "      <td>13</td>\n",
       "      <td>8860</td>\n",
       "      <td>1030</td>\n",
       "      <td>2001</td>\n",
       "      <td>0</td>\n",
       "      <td>98039</td>\n",
       "      <td>47.6305</td>\n",
       "      <td>-122.240</td>\n",
       "      <td>4540</td>\n",
       "      <td>42730</td>\n",
       "    </tr>\n",
       "    <tr>\n",
       "      <th>4411</th>\n",
       "      <td>2470100110</td>\n",
       "      <td>20140804T000000</td>\n",
       "      <td>5570000.0</td>\n",
       "      <td>5</td>\n",
       "      <td>5.75</td>\n",
       "      <td>9200</td>\n",
       "      <td>35069</td>\n",
       "      <td>2.0</td>\n",
       "      <td>0</td>\n",
       "      <td>0</td>\n",
       "      <td>...</td>\n",
       "      <td>13</td>\n",
       "      <td>6200</td>\n",
       "      <td>3000</td>\n",
       "      <td>2001</td>\n",
       "      <td>0</td>\n",
       "      <td>98039</td>\n",
       "      <td>47.6289</td>\n",
       "      <td>-122.233</td>\n",
       "      <td>3560</td>\n",
       "      <td>24345</td>\n",
       "    </tr>\n",
       "    <tr>\n",
       "      <th>1448</th>\n",
       "      <td>8907500070</td>\n",
       "      <td>20150413T000000</td>\n",
       "      <td>5350000.0</td>\n",
       "      <td>5</td>\n",
       "      <td>5.00</td>\n",
       "      <td>8000</td>\n",
       "      <td>23985</td>\n",
       "      <td>2.0</td>\n",
       "      <td>0</td>\n",
       "      <td>4</td>\n",
       "      <td>...</td>\n",
       "      <td>12</td>\n",
       "      <td>6720</td>\n",
       "      <td>1280</td>\n",
       "      <td>2009</td>\n",
       "      <td>0</td>\n",
       "      <td>98004</td>\n",
       "      <td>47.6232</td>\n",
       "      <td>-122.220</td>\n",
       "      <td>4600</td>\n",
       "      <td>21750</td>\n",
       "    </tr>\n",
       "    <tr>\n",
       "      <th>1315</th>\n",
       "      <td>7558700030</td>\n",
       "      <td>20150413T000000</td>\n",
       "      <td>5300000.0</td>\n",
       "      <td>6</td>\n",
       "      <td>6.00</td>\n",
       "      <td>7390</td>\n",
       "      <td>24829</td>\n",
       "      <td>2.0</td>\n",
       "      <td>1</td>\n",
       "      <td>4</td>\n",
       "      <td>...</td>\n",
       "      <td>12</td>\n",
       "      <td>5000</td>\n",
       "      <td>2390</td>\n",
       "      <td>1991</td>\n",
       "      <td>0</td>\n",
       "      <td>98040</td>\n",
       "      <td>47.5631</td>\n",
       "      <td>-122.210</td>\n",
       "      <td>4320</td>\n",
       "      <td>24619</td>\n",
       "    </tr>\n",
       "    <tr>\n",
       "      <th>1164</th>\n",
       "      <td>1247600105</td>\n",
       "      <td>20141020T000000</td>\n",
       "      <td>5110800.0</td>\n",
       "      <td>5</td>\n",
       "      <td>5.25</td>\n",
       "      <td>8010</td>\n",
       "      <td>45517</td>\n",
       "      <td>2.0</td>\n",
       "      <td>1</td>\n",
       "      <td>4</td>\n",
       "      <td>...</td>\n",
       "      <td>12</td>\n",
       "      <td>5990</td>\n",
       "      <td>2020</td>\n",
       "      <td>1999</td>\n",
       "      <td>0</td>\n",
       "      <td>98033</td>\n",
       "      <td>47.6767</td>\n",
       "      <td>-122.211</td>\n",
       "      <td>3430</td>\n",
       "      <td>26788</td>\n",
       "    </tr>\n",
       "    <tr>\n",
       "      <th>8092</th>\n",
       "      <td>1924059029</td>\n",
       "      <td>20140617T000000</td>\n",
       "      <td>4668000.0</td>\n",
       "      <td>5</td>\n",
       "      <td>6.75</td>\n",
       "      <td>9640</td>\n",
       "      <td>13068</td>\n",
       "      <td>1.0</td>\n",
       "      <td>1</td>\n",
       "      <td>4</td>\n",
       "      <td>...</td>\n",
       "      <td>12</td>\n",
       "      <td>4820</td>\n",
       "      <td>4820</td>\n",
       "      <td>1983</td>\n",
       "      <td>2009</td>\n",
       "      <td>98040</td>\n",
       "      <td>47.5570</td>\n",
       "      <td>-122.210</td>\n",
       "      <td>3270</td>\n",
       "      <td>10454</td>\n",
       "    </tr>\n",
       "    <tr>\n",
       "      <th>2626</th>\n",
       "      <td>7738500731</td>\n",
       "      <td>20140815T000000</td>\n",
       "      <td>4500000.0</td>\n",
       "      <td>5</td>\n",
       "      <td>5.50</td>\n",
       "      <td>6640</td>\n",
       "      <td>40014</td>\n",
       "      <td>2.0</td>\n",
       "      <td>1</td>\n",
       "      <td>4</td>\n",
       "      <td>...</td>\n",
       "      <td>12</td>\n",
       "      <td>6350</td>\n",
       "      <td>290</td>\n",
       "      <td>2004</td>\n",
       "      <td>0</td>\n",
       "      <td>98155</td>\n",
       "      <td>47.7493</td>\n",
       "      <td>-122.280</td>\n",
       "      <td>3030</td>\n",
       "      <td>23408</td>\n",
       "    </tr>\n",
       "    <tr>\n",
       "      <th>8638</th>\n",
       "      <td>3835500195</td>\n",
       "      <td>20140618T000000</td>\n",
       "      <td>4489000.0</td>\n",
       "      <td>4</td>\n",
       "      <td>3.00</td>\n",
       "      <td>6430</td>\n",
       "      <td>27517</td>\n",
       "      <td>2.0</td>\n",
       "      <td>0</td>\n",
       "      <td>0</td>\n",
       "      <td>...</td>\n",
       "      <td>12</td>\n",
       "      <td>6430</td>\n",
       "      <td>0</td>\n",
       "      <td>2001</td>\n",
       "      <td>0</td>\n",
       "      <td>98004</td>\n",
       "      <td>47.6208</td>\n",
       "      <td>-122.219</td>\n",
       "      <td>3720</td>\n",
       "      <td>14592</td>\n",
       "    </tr>\n",
       "  </tbody>\n",
       "</table>\n",
       "<p>10 rows × 21 columns</p>\n",
       "</div>"
      ],
      "text/plain": [
       "              id             date      price  bedrooms  bathrooms  \\\n",
       "7252  6762700020  20141013T000000  7700000.0         6       8.00   \n",
       "3914  9808700762  20140611T000000  7062500.0         5       4.50   \n",
       "9254  9208900037  20140919T000000  6885000.0         6       7.75   \n",
       "4411  2470100110  20140804T000000  5570000.0         5       5.75   \n",
       "1448  8907500070  20150413T000000  5350000.0         5       5.00   \n",
       "1315  7558700030  20150413T000000  5300000.0         6       6.00   \n",
       "1164  1247600105  20141020T000000  5110800.0         5       5.25   \n",
       "8092  1924059029  20140617T000000  4668000.0         5       6.75   \n",
       "2626  7738500731  20140815T000000  4500000.0         5       5.50   \n",
       "8638  3835500195  20140618T000000  4489000.0         4       3.00   \n",
       "\n",
       "      sqft_living  sqft_lot  floors  waterfront  view  ...  grade  sqft_above  \\\n",
       "7252        12050     27600     2.5           0     3  ...     13        8570   \n",
       "3914        10040     37325     2.0           1     2  ...     11        7680   \n",
       "9254         9890     31374     2.0           0     4  ...     13        8860   \n",
       "4411         9200     35069     2.0           0     0  ...     13        6200   \n",
       "1448         8000     23985     2.0           0     4  ...     12        6720   \n",
       "1315         7390     24829     2.0           1     4  ...     12        5000   \n",
       "1164         8010     45517     2.0           1     4  ...     12        5990   \n",
       "8092         9640     13068     1.0           1     4  ...     12        4820   \n",
       "2626         6640     40014     2.0           1     4  ...     12        6350   \n",
       "8638         6430     27517     2.0           0     0  ...     12        6430   \n",
       "\n",
       "      sqft_basement  yr_built  yr_renovated  zipcode      lat     long  \\\n",
       "7252           3480      1910          1987    98102  47.6298 -122.323   \n",
       "3914           2360      1940          2001    98004  47.6500 -122.214   \n",
       "9254           1030      2001             0    98039  47.6305 -122.240   \n",
       "4411           3000      2001             0    98039  47.6289 -122.233   \n",
       "1448           1280      2009             0    98004  47.6232 -122.220   \n",
       "1315           2390      1991             0    98040  47.5631 -122.210   \n",
       "1164           2020      1999             0    98033  47.6767 -122.211   \n",
       "8092           4820      1983          2009    98040  47.5570 -122.210   \n",
       "2626            290      2004             0    98155  47.7493 -122.280   \n",
       "8638              0      2001             0    98004  47.6208 -122.219   \n",
       "\n",
       "      sqft_living15  sqft_lot15  \n",
       "7252           3940        8800  \n",
       "3914           3930       25449  \n",
       "9254           4540       42730  \n",
       "4411           3560       24345  \n",
       "1448           4600       21750  \n",
       "1315           4320       24619  \n",
       "1164           3430       26788  \n",
       "8092           3270       10454  \n",
       "2626           3030       23408  \n",
       "8638           3720       14592  \n",
       "\n",
       "[10 rows x 21 columns]"
      ]
     },
     "execution_count": 62,
     "metadata": {},
     "output_type": "execute_result"
    }
   ],
   "source": [
    "kc_house.nlargest(10, ['price'])"
   ]
  },
  {
   "cell_type": "code",
   "execution_count": 63,
   "id": "8c155115",
   "metadata": {},
   "outputs": [
    {
     "data": {
      "text/html": [
       "<div>\n",
       "<style scoped>\n",
       "    .dataframe tbody tr th:only-of-type {\n",
       "        vertical-align: middle;\n",
       "    }\n",
       "\n",
       "    .dataframe tbody tr th {\n",
       "        vertical-align: top;\n",
       "    }\n",
       "\n",
       "    .dataframe thead th {\n",
       "        text-align: right;\n",
       "    }\n",
       "</style>\n",
       "<table border=\"1\" class=\"dataframe\">\n",
       "  <thead>\n",
       "    <tr style=\"text-align: right;\">\n",
       "      <th></th>\n",
       "      <th>show_id</th>\n",
       "      <th>type</th>\n",
       "      <th>title</th>\n",
       "      <th>director</th>\n",
       "      <th>cast</th>\n",
       "      <th>country</th>\n",
       "      <th>date_added</th>\n",
       "      <th>release_year</th>\n",
       "      <th>rating</th>\n",
       "      <th>duration</th>\n",
       "      <th>listed_in</th>\n",
       "      <th>description</th>\n",
       "    </tr>\n",
       "  </thead>\n",
       "  <tbody>\n",
       "    <tr>\n",
       "      <th>1</th>\n",
       "      <td>s2</td>\n",
       "      <td>TV Show</td>\n",
       "      <td>Blood &amp; Water</td>\n",
       "      <td>NaN</td>\n",
       "      <td>Ama Qamata, Khosi Ngema, Gail Mabalane, Thaban...</td>\n",
       "      <td>South Africa</td>\n",
       "      <td>September 24, 2021</td>\n",
       "      <td>2021</td>\n",
       "      <td>TV-MA</td>\n",
       "      <td>2 Seasons</td>\n",
       "      <td>International TV Shows, TV Dramas, TV Mysteries</td>\n",
       "      <td>After crossing paths at a party, a Cape Town t...</td>\n",
       "    </tr>\n",
       "    <tr>\n",
       "      <th>2</th>\n",
       "      <td>s3</td>\n",
       "      <td>TV Show</td>\n",
       "      <td>Ganglands</td>\n",
       "      <td>Julien Leclercq</td>\n",
       "      <td>Sami Bouajila, Tracy Gotoas, Samuel Jouy, Nabi...</td>\n",
       "      <td>NaN</td>\n",
       "      <td>September 24, 2021</td>\n",
       "      <td>2021</td>\n",
       "      <td>TV-MA</td>\n",
       "      <td>1 Season</td>\n",
       "      <td>Crime TV Shows, International TV Shows, TV Act...</td>\n",
       "      <td>To protect his family from a powerful drug lor...</td>\n",
       "    </tr>\n",
       "    <tr>\n",
       "      <th>3</th>\n",
       "      <td>s4</td>\n",
       "      <td>TV Show</td>\n",
       "      <td>Jailbirds New Orleans</td>\n",
       "      <td>NaN</td>\n",
       "      <td>NaN</td>\n",
       "      <td>NaN</td>\n",
       "      <td>September 24, 2021</td>\n",
       "      <td>2021</td>\n",
       "      <td>TV-MA</td>\n",
       "      <td>1 Season</td>\n",
       "      <td>Docuseries, Reality TV</td>\n",
       "      <td>Feuds, flirtations and toilet talk go down amo...</td>\n",
       "    </tr>\n",
       "    <tr>\n",
       "      <th>4</th>\n",
       "      <td>s5</td>\n",
       "      <td>TV Show</td>\n",
       "      <td>Kota Factory</td>\n",
       "      <td>NaN</td>\n",
       "      <td>Mayur More, Jitendra Kumar, Ranjan Raj, Alam K...</td>\n",
       "      <td>India</td>\n",
       "      <td>September 24, 2021</td>\n",
       "      <td>2021</td>\n",
       "      <td>TV-MA</td>\n",
       "      <td>2 Seasons</td>\n",
       "      <td>International TV Shows, Romantic TV Shows, TV ...</td>\n",
       "      <td>In a city of coaching centers known to train I...</td>\n",
       "    </tr>\n",
       "    <tr>\n",
       "      <th>5</th>\n",
       "      <td>s6</td>\n",
       "      <td>TV Show</td>\n",
       "      <td>Midnight Mass</td>\n",
       "      <td>Mike Flanagan</td>\n",
       "      <td>Kate Siegel, Zach Gilford, Hamish Linklater, H...</td>\n",
       "      <td>NaN</td>\n",
       "      <td>September 24, 2021</td>\n",
       "      <td>2021</td>\n",
       "      <td>TV-MA</td>\n",
       "      <td>1 Season</td>\n",
       "      <td>TV Dramas, TV Horror, TV Mysteries</td>\n",
       "      <td>The arrival of a charismatic young priest brin...</td>\n",
       "    </tr>\n",
       "    <tr>\n",
       "      <th>6</th>\n",
       "      <td>s7</td>\n",
       "      <td>Movie</td>\n",
       "      <td>My Little Pony: A New Generation</td>\n",
       "      <td>Robert Cullen, José Luis Ucha</td>\n",
       "      <td>Vanessa Hudgens, Kimiko Glenn, James Marsden, ...</td>\n",
       "      <td>NaN</td>\n",
       "      <td>September 24, 2021</td>\n",
       "      <td>2021</td>\n",
       "      <td>PG</td>\n",
       "      <td>91 min</td>\n",
       "      <td>Children &amp; Family Movies</td>\n",
       "      <td>Equestria's divided. But a bright-eyed hero be...</td>\n",
       "    </tr>\n",
       "    <tr>\n",
       "      <th>8</th>\n",
       "      <td>s9</td>\n",
       "      <td>TV Show</td>\n",
       "      <td>The Great British Baking Show</td>\n",
       "      <td>Andy Devonshire</td>\n",
       "      <td>Mel Giedroyc, Sue Perkins, Mary Berry, Paul Ho...</td>\n",
       "      <td>United Kingdom</td>\n",
       "      <td>September 24, 2021</td>\n",
       "      <td>2021</td>\n",
       "      <td>TV-14</td>\n",
       "      <td>9 Seasons</td>\n",
       "      <td>British TV Shows, Reality TV</td>\n",
       "      <td>A talented batch of amateur bakers face off in...</td>\n",
       "    </tr>\n",
       "    <tr>\n",
       "      <th>9</th>\n",
       "      <td>s10</td>\n",
       "      <td>Movie</td>\n",
       "      <td>The Starling</td>\n",
       "      <td>Theodore Melfi</td>\n",
       "      <td>Melissa McCarthy, Chris O'Dowd, Kevin Kline, T...</td>\n",
       "      <td>United States</td>\n",
       "      <td>September 24, 2021</td>\n",
       "      <td>2021</td>\n",
       "      <td>PG-13</td>\n",
       "      <td>104 min</td>\n",
       "      <td>Comedies, Dramas</td>\n",
       "      <td>A woman adjusting to life after a loss contend...</td>\n",
       "    </tr>\n",
       "    <tr>\n",
       "      <th>10</th>\n",
       "      <td>s11</td>\n",
       "      <td>TV Show</td>\n",
       "      <td>Vendetta: Truth, Lies and The Mafia</td>\n",
       "      <td>NaN</td>\n",
       "      <td>NaN</td>\n",
       "      <td>NaN</td>\n",
       "      <td>September 24, 2021</td>\n",
       "      <td>2021</td>\n",
       "      <td>TV-MA</td>\n",
       "      <td>1 Season</td>\n",
       "      <td>Crime TV Shows, Docuseries, International TV S...</td>\n",
       "      <td>Sicily boasts a bold \"Anti-Mafia\" coalition. B...</td>\n",
       "    </tr>\n",
       "    <tr>\n",
       "      <th>11</th>\n",
       "      <td>s12</td>\n",
       "      <td>TV Show</td>\n",
       "      <td>Bangkok Breaking</td>\n",
       "      <td>Kongkiat Komesiri</td>\n",
       "      <td>Sukollawat Kanarot, Sushar Manaying, Pavarit M...</td>\n",
       "      <td>NaN</td>\n",
       "      <td>September 23, 2021</td>\n",
       "      <td>2021</td>\n",
       "      <td>TV-MA</td>\n",
       "      <td>1 Season</td>\n",
       "      <td>Crime TV Shows, International TV Shows, TV Act...</td>\n",
       "      <td>Struggling to earn a living in Bangkok, a man ...</td>\n",
       "    </tr>\n",
       "  </tbody>\n",
       "</table>\n",
       "</div>"
      ],
      "text/plain": [
       "   show_id     type                                title  \\\n",
       "1       s2  TV Show                        Blood & Water   \n",
       "2       s3  TV Show                            Ganglands   \n",
       "3       s4  TV Show                Jailbirds New Orleans   \n",
       "4       s5  TV Show                         Kota Factory   \n",
       "5       s6  TV Show                        Midnight Mass   \n",
       "6       s7    Movie     My Little Pony: A New Generation   \n",
       "8       s9  TV Show        The Great British Baking Show   \n",
       "9      s10    Movie                         The Starling   \n",
       "10     s11  TV Show  Vendetta: Truth, Lies and The Mafia   \n",
       "11     s12  TV Show                     Bangkok Breaking   \n",
       "\n",
       "                         director  \\\n",
       "1                             NaN   \n",
       "2                 Julien Leclercq   \n",
       "3                             NaN   \n",
       "4                             NaN   \n",
       "5                   Mike Flanagan   \n",
       "6   Robert Cullen, José Luis Ucha   \n",
       "8                 Andy Devonshire   \n",
       "9                  Theodore Melfi   \n",
       "10                            NaN   \n",
       "11              Kongkiat Komesiri   \n",
       "\n",
       "                                                 cast         country  \\\n",
       "1   Ama Qamata, Khosi Ngema, Gail Mabalane, Thaban...    South Africa   \n",
       "2   Sami Bouajila, Tracy Gotoas, Samuel Jouy, Nabi...             NaN   \n",
       "3                                                 NaN             NaN   \n",
       "4   Mayur More, Jitendra Kumar, Ranjan Raj, Alam K...           India   \n",
       "5   Kate Siegel, Zach Gilford, Hamish Linklater, H...             NaN   \n",
       "6   Vanessa Hudgens, Kimiko Glenn, James Marsden, ...             NaN   \n",
       "8   Mel Giedroyc, Sue Perkins, Mary Berry, Paul Ho...  United Kingdom   \n",
       "9   Melissa McCarthy, Chris O'Dowd, Kevin Kline, T...   United States   \n",
       "10                                                NaN             NaN   \n",
       "11  Sukollawat Kanarot, Sushar Manaying, Pavarit M...             NaN   \n",
       "\n",
       "            date_added  release_year rating   duration  \\\n",
       "1   September 24, 2021          2021  TV-MA  2 Seasons   \n",
       "2   September 24, 2021          2021  TV-MA   1 Season   \n",
       "3   September 24, 2021          2021  TV-MA   1 Season   \n",
       "4   September 24, 2021          2021  TV-MA  2 Seasons   \n",
       "5   September 24, 2021          2021  TV-MA   1 Season   \n",
       "6   September 24, 2021          2021     PG     91 min   \n",
       "8   September 24, 2021          2021  TV-14  9 Seasons   \n",
       "9   September 24, 2021          2021  PG-13    104 min   \n",
       "10  September 24, 2021          2021  TV-MA   1 Season   \n",
       "11  September 23, 2021          2021  TV-MA   1 Season   \n",
       "\n",
       "                                            listed_in  \\\n",
       "1     International TV Shows, TV Dramas, TV Mysteries   \n",
       "2   Crime TV Shows, International TV Shows, TV Act...   \n",
       "3                              Docuseries, Reality TV   \n",
       "4   International TV Shows, Romantic TV Shows, TV ...   \n",
       "5                  TV Dramas, TV Horror, TV Mysteries   \n",
       "6                            Children & Family Movies   \n",
       "8                        British TV Shows, Reality TV   \n",
       "9                                    Comedies, Dramas   \n",
       "10  Crime TV Shows, Docuseries, International TV S...   \n",
       "11  Crime TV Shows, International TV Shows, TV Act...   \n",
       "\n",
       "                                          description  \n",
       "1   After crossing paths at a party, a Cape Town t...  \n",
       "2   To protect his family from a powerful drug lor...  \n",
       "3   Feuds, flirtations and toilet talk go down amo...  \n",
       "4   In a city of coaching centers known to train I...  \n",
       "5   The arrival of a charismatic young priest brin...  \n",
       "6   Equestria's divided. But a bright-eyed hero be...  \n",
       "8   A talented batch of amateur bakers face off in...  \n",
       "9   A woman adjusting to life after a loss contend...  \n",
       "10  Sicily boasts a bold \"Anti-Mafia\" coalition. B...  \n",
       "11  Struggling to earn a living in Bangkok, a man ...  "
      ]
     },
     "execution_count": 63,
     "metadata": {},
     "output_type": "execute_result"
    }
   ],
   "source": [
    "netflix.nlargest(10, ['release_year'])"
   ]
  },
  {
   "cell_type": "code",
   "execution_count": 64,
   "id": "baacd5cf",
   "metadata": {},
   "outputs": [
    {
     "name": "stdout",
     "output_type": "stream",
     "text": [
      "<class 'pandas.core.frame.DataFrame'>\n",
      "RangeIndex: 1309 entries, 0 to 1308\n",
      "Data columns (total 14 columns):\n",
      " #   Column     Non-Null Count  Dtype \n",
      "---  ------     --------------  ----- \n",
      " 0   pclass     1309 non-null   int64 \n",
      " 1   survived   1309 non-null   int64 \n",
      " 2   name       1309 non-null   object\n",
      " 3   sex        1309 non-null   object\n",
      " 4   age        1309 non-null   object\n",
      " 5   sibsp      1309 non-null   int64 \n",
      " 6   parch      1309 non-null   int64 \n",
      " 7   ticket     1309 non-null   object\n",
      " 8   fare       1309 non-null   object\n",
      " 9   cabin      1309 non-null   object\n",
      " 10  embarked   1309 non-null   object\n",
      " 11  boat       1309 non-null   object\n",
      " 12  body       1309 non-null   object\n",
      " 13  home.dest  1309 non-null   object\n",
      "dtypes: int64(4), object(10)\n",
      "memory usage: 143.3+ KB\n"
     ]
    }
   ],
   "source": [
    "titanic.info()"
   ]
  },
  {
   "cell_type": "code",
   "execution_count": 65,
   "id": "f7cc27a1",
   "metadata": {},
   "outputs": [
    {
     "data": {
      "text/html": [
       "<div>\n",
       "<style scoped>\n",
       "    .dataframe tbody tr th:only-of-type {\n",
       "        vertical-align: middle;\n",
       "    }\n",
       "\n",
       "    .dataframe tbody tr th {\n",
       "        vertical-align: top;\n",
       "    }\n",
       "\n",
       "    .dataframe thead th {\n",
       "        text-align: right;\n",
       "    }\n",
       "</style>\n",
       "<table border=\"1\" class=\"dataframe\">\n",
       "  <thead>\n",
       "    <tr style=\"text-align: right;\">\n",
       "      <th></th>\n",
       "      <th>pclass</th>\n",
       "      <th>survived</th>\n",
       "      <th>name</th>\n",
       "      <th>sex</th>\n",
       "      <th>age</th>\n",
       "      <th>sibsp</th>\n",
       "      <th>parch</th>\n",
       "      <th>ticket</th>\n",
       "      <th>fare</th>\n",
       "      <th>cabin</th>\n",
       "      <th>embarked</th>\n",
       "      <th>boat</th>\n",
       "      <th>body</th>\n",
       "      <th>home.dest</th>\n",
       "    </tr>\n",
       "  </thead>\n",
       "  <tbody>\n",
       "    <tr>\n",
       "      <th>0</th>\n",
       "      <td>1</td>\n",
       "      <td>1</td>\n",
       "      <td>Allen, Miss. Elisabeth Walton</td>\n",
       "      <td>female</td>\n",
       "      <td>29</td>\n",
       "      <td>0</td>\n",
       "      <td>0</td>\n",
       "      <td>24160</td>\n",
       "      <td>211.3375</td>\n",
       "      <td>B5</td>\n",
       "      <td>S</td>\n",
       "      <td>2</td>\n",
       "      <td>?</td>\n",
       "      <td>St Louis, MO</td>\n",
       "    </tr>\n",
       "    <tr>\n",
       "      <th>1</th>\n",
       "      <td>1</td>\n",
       "      <td>1</td>\n",
       "      <td>Allison, Master. Hudson Trevor</td>\n",
       "      <td>male</td>\n",
       "      <td>0.9167</td>\n",
       "      <td>1</td>\n",
       "      <td>2</td>\n",
       "      <td>113781</td>\n",
       "      <td>151.55</td>\n",
       "      <td>C22 C26</td>\n",
       "      <td>S</td>\n",
       "      <td>11</td>\n",
       "      <td>?</td>\n",
       "      <td>Montreal, PQ / Chesterville, ON</td>\n",
       "    </tr>\n",
       "    <tr>\n",
       "      <th>5</th>\n",
       "      <td>1</td>\n",
       "      <td>1</td>\n",
       "      <td>Anderson, Mr. Harry</td>\n",
       "      <td>male</td>\n",
       "      <td>48</td>\n",
       "      <td>0</td>\n",
       "      <td>0</td>\n",
       "      <td>19952</td>\n",
       "      <td>26.55</td>\n",
       "      <td>E12</td>\n",
       "      <td>S</td>\n",
       "      <td>3</td>\n",
       "      <td>?</td>\n",
       "      <td>New York, NY</td>\n",
       "    </tr>\n",
       "    <tr>\n",
       "      <th>6</th>\n",
       "      <td>1</td>\n",
       "      <td>1</td>\n",
       "      <td>Andrews, Miss. Kornelia Theodosia</td>\n",
       "      <td>female</td>\n",
       "      <td>63</td>\n",
       "      <td>1</td>\n",
       "      <td>0</td>\n",
       "      <td>13502</td>\n",
       "      <td>77.9583</td>\n",
       "      <td>D7</td>\n",
       "      <td>S</td>\n",
       "      <td>10</td>\n",
       "      <td>?</td>\n",
       "      <td>Hudson, NY</td>\n",
       "    </tr>\n",
       "    <tr>\n",
       "      <th>8</th>\n",
       "      <td>1</td>\n",
       "      <td>1</td>\n",
       "      <td>Appleton, Mrs. Edward Dale (Charlotte Lamson)</td>\n",
       "      <td>female</td>\n",
       "      <td>53</td>\n",
       "      <td>2</td>\n",
       "      <td>0</td>\n",
       "      <td>11769</td>\n",
       "      <td>51.4792</td>\n",
       "      <td>C101</td>\n",
       "      <td>S</td>\n",
       "      <td>D</td>\n",
       "      <td>?</td>\n",
       "      <td>Bayside, Queens, NY</td>\n",
       "    </tr>\n",
       "    <tr>\n",
       "      <th>...</th>\n",
       "      <td>...</td>\n",
       "      <td>...</td>\n",
       "      <td>...</td>\n",
       "      <td>...</td>\n",
       "      <td>...</td>\n",
       "      <td>...</td>\n",
       "      <td>...</td>\n",
       "      <td>...</td>\n",
       "      <td>...</td>\n",
       "      <td>...</td>\n",
       "      <td>...</td>\n",
       "      <td>...</td>\n",
       "      <td>...</td>\n",
       "      <td>...</td>\n",
       "    </tr>\n",
       "    <tr>\n",
       "      <th>1261</th>\n",
       "      <td>3</td>\n",
       "      <td>1</td>\n",
       "      <td>Turkula, Mrs. (Hedwig)</td>\n",
       "      <td>female</td>\n",
       "      <td>63</td>\n",
       "      <td>0</td>\n",
       "      <td>0</td>\n",
       "      <td>4134</td>\n",
       "      <td>9.5875</td>\n",
       "      <td>?</td>\n",
       "      <td>S</td>\n",
       "      <td>15</td>\n",
       "      <td>?</td>\n",
       "      <td>?</td>\n",
       "    </tr>\n",
       "    <tr>\n",
       "      <th>1277</th>\n",
       "      <td>3</td>\n",
       "      <td>1</td>\n",
       "      <td>Vartanian, Mr. David</td>\n",
       "      <td>male</td>\n",
       "      <td>22</td>\n",
       "      <td>0</td>\n",
       "      <td>0</td>\n",
       "      <td>2658</td>\n",
       "      <td>7.225</td>\n",
       "      <td>?</td>\n",
       "      <td>C</td>\n",
       "      <td>13 15</td>\n",
       "      <td>?</td>\n",
       "      <td>?</td>\n",
       "    </tr>\n",
       "    <tr>\n",
       "      <th>1286</th>\n",
       "      <td>3</td>\n",
       "      <td>1</td>\n",
       "      <td>Whabee, Mrs. George Joseph (Shawneene Abi-Saab)</td>\n",
       "      <td>female</td>\n",
       "      <td>38</td>\n",
       "      <td>0</td>\n",
       "      <td>0</td>\n",
       "      <td>2688</td>\n",
       "      <td>7.2292</td>\n",
       "      <td>?</td>\n",
       "      <td>C</td>\n",
       "      <td>C</td>\n",
       "      <td>?</td>\n",
       "      <td>?</td>\n",
       "    </tr>\n",
       "    <tr>\n",
       "      <th>1290</th>\n",
       "      <td>3</td>\n",
       "      <td>1</td>\n",
       "      <td>Wilkes, Mrs. James (Ellen Needs)</td>\n",
       "      <td>female</td>\n",
       "      <td>47</td>\n",
       "      <td>1</td>\n",
       "      <td>0</td>\n",
       "      <td>363272</td>\n",
       "      <td>7</td>\n",
       "      <td>?</td>\n",
       "      <td>S</td>\n",
       "      <td>?</td>\n",
       "      <td>?</td>\n",
       "      <td>?</td>\n",
       "    </tr>\n",
       "    <tr>\n",
       "      <th>1300</th>\n",
       "      <td>3</td>\n",
       "      <td>1</td>\n",
       "      <td>Yasbeck, Mrs. Antoni (Selini Alexander)</td>\n",
       "      <td>female</td>\n",
       "      <td>15</td>\n",
       "      <td>1</td>\n",
       "      <td>0</td>\n",
       "      <td>2659</td>\n",
       "      <td>14.4542</td>\n",
       "      <td>?</td>\n",
       "      <td>C</td>\n",
       "      <td>?</td>\n",
       "      <td>?</td>\n",
       "      <td>?</td>\n",
       "    </tr>\n",
       "  </tbody>\n",
       "</table>\n",
       "<p>500 rows × 14 columns</p>\n",
       "</div>"
      ],
      "text/plain": [
       "      pclass  survived                                             name  \\\n",
       "0          1         1                    Allen, Miss. Elisabeth Walton   \n",
       "1          1         1                   Allison, Master. Hudson Trevor   \n",
       "5          1         1                              Anderson, Mr. Harry   \n",
       "6          1         1                Andrews, Miss. Kornelia Theodosia   \n",
       "8          1         1    Appleton, Mrs. Edward Dale (Charlotte Lamson)   \n",
       "...      ...       ...                                              ...   \n",
       "1261       3         1                           Turkula, Mrs. (Hedwig)   \n",
       "1277       3         1                             Vartanian, Mr. David   \n",
       "1286       3         1  Whabee, Mrs. George Joseph (Shawneene Abi-Saab)   \n",
       "1290       3         1                 Wilkes, Mrs. James (Ellen Needs)   \n",
       "1300       3         1          Yasbeck, Mrs. Antoni (Selini Alexander)   \n",
       "\n",
       "         sex     age  sibsp  parch  ticket      fare    cabin embarked   boat  \\\n",
       "0     female      29      0      0   24160  211.3375       B5        S      2   \n",
       "1       male  0.9167      1      2  113781    151.55  C22 C26        S     11   \n",
       "5       male      48      0      0   19952     26.55      E12        S      3   \n",
       "6     female      63      1      0   13502   77.9583       D7        S     10   \n",
       "8     female      53      2      0   11769   51.4792     C101        S      D   \n",
       "...      ...     ...    ...    ...     ...       ...      ...      ...    ...   \n",
       "1261  female      63      0      0    4134    9.5875        ?        S     15   \n",
       "1277    male      22      0      0    2658     7.225        ?        C  13 15   \n",
       "1286  female      38      0      0    2688    7.2292        ?        C      C   \n",
       "1290  female      47      1      0  363272         7        ?        S      ?   \n",
       "1300  female      15      1      0    2659   14.4542        ?        C      ?   \n",
       "\n",
       "     body                        home.dest  \n",
       "0       ?                     St Louis, MO  \n",
       "1       ?  Montreal, PQ / Chesterville, ON  \n",
       "5       ?                     New York, NY  \n",
       "6       ?                       Hudson, NY  \n",
       "8       ?              Bayside, Queens, NY  \n",
       "...   ...                              ...  \n",
       "1261    ?                                ?  \n",
       "1277    ?                                ?  \n",
       "1286    ?                                ?  \n",
       "1290    ?                                ?  \n",
       "1300    ?                                ?  \n",
       "\n",
       "[500 rows x 14 columns]"
      ]
     },
     "execution_count": 65,
     "metadata": {},
     "output_type": "execute_result"
    }
   ],
   "source": [
    "titanic.nlargest(10, ['survived'], keep='all')"
   ]
  },
  {
   "cell_type": "code",
   "execution_count": 66,
   "id": "80fa9b89",
   "metadata": {},
   "outputs": [
    {
     "data": {
      "text/plain": [
       "(1309, 14)"
      ]
     },
     "execution_count": 66,
     "metadata": {},
     "output_type": "execute_result"
    }
   ],
   "source": [
    "titanic.shape"
   ]
  },
  {
   "cell_type": "code",
   "execution_count": 67,
   "id": "e484c36d",
   "metadata": {},
   "outputs": [
    {
     "name": "stdout",
     "output_type": "stream",
     "text": [
      "<class 'pandas.core.frame.DataFrame'>\n",
      "RangeIndex: 21613 entries, 0 to 21612\n",
      "Data columns (total 21 columns):\n",
      " #   Column         Non-Null Count  Dtype  \n",
      "---  ------         --------------  -----  \n",
      " 0   id             21613 non-null  int64  \n",
      " 1   date           21613 non-null  object \n",
      " 2   price          21613 non-null  float64\n",
      " 3   bedrooms       21613 non-null  int64  \n",
      " 4   bathrooms      21613 non-null  float64\n",
      " 5   sqft_living    21613 non-null  int64  \n",
      " 6   sqft_lot       21613 non-null  int64  \n",
      " 7   floors         21613 non-null  float64\n",
      " 8   waterfront     21613 non-null  int64  \n",
      " 9   view           21613 non-null  int64  \n",
      " 10  condition      21613 non-null  int64  \n",
      " 11  grade          21613 non-null  int64  \n",
      " 12  sqft_above     21613 non-null  int64  \n",
      " 13  sqft_basement  21613 non-null  int64  \n",
      " 14  yr_built       21613 non-null  int64  \n",
      " 15  yr_renovated   21613 non-null  int64  \n",
      " 16  zipcode        21613 non-null  int64  \n",
      " 17  lat            21613 non-null  float64\n",
      " 18  long           21613 non-null  float64\n",
      " 19  sqft_living15  21613 non-null  int64  \n",
      " 20  sqft_lot15     21613 non-null  int64  \n",
      "dtypes: float64(5), int64(15), object(1)\n",
      "memory usage: 3.5+ MB\n"
     ]
    }
   ],
   "source": [
    "kc_house.info()"
   ]
  },
  {
   "cell_type": "code",
   "execution_count": 68,
   "id": "ec3fbd7a",
   "metadata": {},
   "outputs": [
    {
     "data": {
      "text/html": [
       "<div>\n",
       "<style scoped>\n",
       "    .dataframe tbody tr th:only-of-type {\n",
       "        vertical-align: middle;\n",
       "    }\n",
       "\n",
       "    .dataframe tbody tr th {\n",
       "        vertical-align: top;\n",
       "    }\n",
       "\n",
       "    .dataframe thead th {\n",
       "        text-align: right;\n",
       "    }\n",
       "</style>\n",
       "<table border=\"1\" class=\"dataframe\">\n",
       "  <thead>\n",
       "    <tr style=\"text-align: right;\">\n",
       "      <th></th>\n",
       "      <th>id</th>\n",
       "      <th>date</th>\n",
       "      <th>price</th>\n",
       "      <th>bedrooms</th>\n",
       "      <th>bathrooms</th>\n",
       "      <th>sqft_living</th>\n",
       "      <th>sqft_lot</th>\n",
       "      <th>floors</th>\n",
       "      <th>waterfront</th>\n",
       "      <th>view</th>\n",
       "      <th>...</th>\n",
       "      <th>grade</th>\n",
       "      <th>sqft_above</th>\n",
       "      <th>sqft_basement</th>\n",
       "      <th>yr_built</th>\n",
       "      <th>yr_renovated</th>\n",
       "      <th>zipcode</th>\n",
       "      <th>lat</th>\n",
       "      <th>long</th>\n",
       "      <th>sqft_living15</th>\n",
       "      <th>sqft_lot15</th>\n",
       "    </tr>\n",
       "  </thead>\n",
       "  <tbody>\n",
       "    <tr>\n",
       "      <th>7252</th>\n",
       "      <td>6762700020</td>\n",
       "      <td>20141013T000000</td>\n",
       "      <td>7700000.0</td>\n",
       "      <td>6</td>\n",
       "      <td>8.00</td>\n",
       "      <td>12050</td>\n",
       "      <td>27600</td>\n",
       "      <td>2.5</td>\n",
       "      <td>0</td>\n",
       "      <td>3</td>\n",
       "      <td>...</td>\n",
       "      <td>13</td>\n",
       "      <td>8570</td>\n",
       "      <td>3480</td>\n",
       "      <td>1910</td>\n",
       "      <td>1987</td>\n",
       "      <td>98102</td>\n",
       "      <td>47.6298</td>\n",
       "      <td>-122.323</td>\n",
       "      <td>3940</td>\n",
       "      <td>8800</td>\n",
       "    </tr>\n",
       "    <tr>\n",
       "      <th>3914</th>\n",
       "      <td>9808700762</td>\n",
       "      <td>20140611T000000</td>\n",
       "      <td>7062500.0</td>\n",
       "      <td>5</td>\n",
       "      <td>4.50</td>\n",
       "      <td>10040</td>\n",
       "      <td>37325</td>\n",
       "      <td>2.0</td>\n",
       "      <td>1</td>\n",
       "      <td>2</td>\n",
       "      <td>...</td>\n",
       "      <td>11</td>\n",
       "      <td>7680</td>\n",
       "      <td>2360</td>\n",
       "      <td>1940</td>\n",
       "      <td>2001</td>\n",
       "      <td>98004</td>\n",
       "      <td>47.6500</td>\n",
       "      <td>-122.214</td>\n",
       "      <td>3930</td>\n",
       "      <td>25449</td>\n",
       "    </tr>\n",
       "    <tr>\n",
       "      <th>9254</th>\n",
       "      <td>9208900037</td>\n",
       "      <td>20140919T000000</td>\n",
       "      <td>6885000.0</td>\n",
       "      <td>6</td>\n",
       "      <td>7.75</td>\n",
       "      <td>9890</td>\n",
       "      <td>31374</td>\n",
       "      <td>2.0</td>\n",
       "      <td>0</td>\n",
       "      <td>4</td>\n",
       "      <td>...</td>\n",
       "      <td>13</td>\n",
       "      <td>8860</td>\n",
       "      <td>1030</td>\n",
       "      <td>2001</td>\n",
       "      <td>0</td>\n",
       "      <td>98039</td>\n",
       "      <td>47.6305</td>\n",
       "      <td>-122.240</td>\n",
       "      <td>4540</td>\n",
       "      <td>42730</td>\n",
       "    </tr>\n",
       "    <tr>\n",
       "      <th>4411</th>\n",
       "      <td>2470100110</td>\n",
       "      <td>20140804T000000</td>\n",
       "      <td>5570000.0</td>\n",
       "      <td>5</td>\n",
       "      <td>5.75</td>\n",
       "      <td>9200</td>\n",
       "      <td>35069</td>\n",
       "      <td>2.0</td>\n",
       "      <td>0</td>\n",
       "      <td>0</td>\n",
       "      <td>...</td>\n",
       "      <td>13</td>\n",
       "      <td>6200</td>\n",
       "      <td>3000</td>\n",
       "      <td>2001</td>\n",
       "      <td>0</td>\n",
       "      <td>98039</td>\n",
       "      <td>47.6289</td>\n",
       "      <td>-122.233</td>\n",
       "      <td>3560</td>\n",
       "      <td>24345</td>\n",
       "    </tr>\n",
       "    <tr>\n",
       "      <th>1448</th>\n",
       "      <td>8907500070</td>\n",
       "      <td>20150413T000000</td>\n",
       "      <td>5350000.0</td>\n",
       "      <td>5</td>\n",
       "      <td>5.00</td>\n",
       "      <td>8000</td>\n",
       "      <td>23985</td>\n",
       "      <td>2.0</td>\n",
       "      <td>0</td>\n",
       "      <td>4</td>\n",
       "      <td>...</td>\n",
       "      <td>12</td>\n",
       "      <td>6720</td>\n",
       "      <td>1280</td>\n",
       "      <td>2009</td>\n",
       "      <td>0</td>\n",
       "      <td>98004</td>\n",
       "      <td>47.6232</td>\n",
       "      <td>-122.220</td>\n",
       "      <td>4600</td>\n",
       "      <td>21750</td>\n",
       "    </tr>\n",
       "    <tr>\n",
       "      <th>1315</th>\n",
       "      <td>7558700030</td>\n",
       "      <td>20150413T000000</td>\n",
       "      <td>5300000.0</td>\n",
       "      <td>6</td>\n",
       "      <td>6.00</td>\n",
       "      <td>7390</td>\n",
       "      <td>24829</td>\n",
       "      <td>2.0</td>\n",
       "      <td>1</td>\n",
       "      <td>4</td>\n",
       "      <td>...</td>\n",
       "      <td>12</td>\n",
       "      <td>5000</td>\n",
       "      <td>2390</td>\n",
       "      <td>1991</td>\n",
       "      <td>0</td>\n",
       "      <td>98040</td>\n",
       "      <td>47.5631</td>\n",
       "      <td>-122.210</td>\n",
       "      <td>4320</td>\n",
       "      <td>24619</td>\n",
       "    </tr>\n",
       "    <tr>\n",
       "      <th>1164</th>\n",
       "      <td>1247600105</td>\n",
       "      <td>20141020T000000</td>\n",
       "      <td>5110800.0</td>\n",
       "      <td>5</td>\n",
       "      <td>5.25</td>\n",
       "      <td>8010</td>\n",
       "      <td>45517</td>\n",
       "      <td>2.0</td>\n",
       "      <td>1</td>\n",
       "      <td>4</td>\n",
       "      <td>...</td>\n",
       "      <td>12</td>\n",
       "      <td>5990</td>\n",
       "      <td>2020</td>\n",
       "      <td>1999</td>\n",
       "      <td>0</td>\n",
       "      <td>98033</td>\n",
       "      <td>47.6767</td>\n",
       "      <td>-122.211</td>\n",
       "      <td>3430</td>\n",
       "      <td>26788</td>\n",
       "    </tr>\n",
       "    <tr>\n",
       "      <th>8092</th>\n",
       "      <td>1924059029</td>\n",
       "      <td>20140617T000000</td>\n",
       "      <td>4668000.0</td>\n",
       "      <td>5</td>\n",
       "      <td>6.75</td>\n",
       "      <td>9640</td>\n",
       "      <td>13068</td>\n",
       "      <td>1.0</td>\n",
       "      <td>1</td>\n",
       "      <td>4</td>\n",
       "      <td>...</td>\n",
       "      <td>12</td>\n",
       "      <td>4820</td>\n",
       "      <td>4820</td>\n",
       "      <td>1983</td>\n",
       "      <td>2009</td>\n",
       "      <td>98040</td>\n",
       "      <td>47.5570</td>\n",
       "      <td>-122.210</td>\n",
       "      <td>3270</td>\n",
       "      <td>10454</td>\n",
       "    </tr>\n",
       "    <tr>\n",
       "      <th>2626</th>\n",
       "      <td>7738500731</td>\n",
       "      <td>20140815T000000</td>\n",
       "      <td>4500000.0</td>\n",
       "      <td>5</td>\n",
       "      <td>5.50</td>\n",
       "      <td>6640</td>\n",
       "      <td>40014</td>\n",
       "      <td>2.0</td>\n",
       "      <td>1</td>\n",
       "      <td>4</td>\n",
       "      <td>...</td>\n",
       "      <td>12</td>\n",
       "      <td>6350</td>\n",
       "      <td>290</td>\n",
       "      <td>2004</td>\n",
       "      <td>0</td>\n",
       "      <td>98155</td>\n",
       "      <td>47.7493</td>\n",
       "      <td>-122.280</td>\n",
       "      <td>3030</td>\n",
       "      <td>23408</td>\n",
       "    </tr>\n",
       "    <tr>\n",
       "      <th>8638</th>\n",
       "      <td>3835500195</td>\n",
       "      <td>20140618T000000</td>\n",
       "      <td>4489000.0</td>\n",
       "      <td>4</td>\n",
       "      <td>3.00</td>\n",
       "      <td>6430</td>\n",
       "      <td>27517</td>\n",
       "      <td>2.0</td>\n",
       "      <td>0</td>\n",
       "      <td>0</td>\n",
       "      <td>...</td>\n",
       "      <td>12</td>\n",
       "      <td>6430</td>\n",
       "      <td>0</td>\n",
       "      <td>2001</td>\n",
       "      <td>0</td>\n",
       "      <td>98004</td>\n",
       "      <td>47.6208</td>\n",
       "      <td>-122.219</td>\n",
       "      <td>3720</td>\n",
       "      <td>14592</td>\n",
       "    </tr>\n",
       "  </tbody>\n",
       "</table>\n",
       "<p>10 rows × 21 columns</p>\n",
       "</div>"
      ],
      "text/plain": [
       "              id             date      price  bedrooms  bathrooms  \\\n",
       "7252  6762700020  20141013T000000  7700000.0         6       8.00   \n",
       "3914  9808700762  20140611T000000  7062500.0         5       4.50   \n",
       "9254  9208900037  20140919T000000  6885000.0         6       7.75   \n",
       "4411  2470100110  20140804T000000  5570000.0         5       5.75   \n",
       "1448  8907500070  20150413T000000  5350000.0         5       5.00   \n",
       "1315  7558700030  20150413T000000  5300000.0         6       6.00   \n",
       "1164  1247600105  20141020T000000  5110800.0         5       5.25   \n",
       "8092  1924059029  20140617T000000  4668000.0         5       6.75   \n",
       "2626  7738500731  20140815T000000  4500000.0         5       5.50   \n",
       "8638  3835500195  20140618T000000  4489000.0         4       3.00   \n",
       "\n",
       "      sqft_living  sqft_lot  floors  waterfront  view  ...  grade  sqft_above  \\\n",
       "7252        12050     27600     2.5           0     3  ...     13        8570   \n",
       "3914        10040     37325     2.0           1     2  ...     11        7680   \n",
       "9254         9890     31374     2.0           0     4  ...     13        8860   \n",
       "4411         9200     35069     2.0           0     0  ...     13        6200   \n",
       "1448         8000     23985     2.0           0     4  ...     12        6720   \n",
       "1315         7390     24829     2.0           1     4  ...     12        5000   \n",
       "1164         8010     45517     2.0           1     4  ...     12        5990   \n",
       "8092         9640     13068     1.0           1     4  ...     12        4820   \n",
       "2626         6640     40014     2.0           1     4  ...     12        6350   \n",
       "8638         6430     27517     2.0           0     0  ...     12        6430   \n",
       "\n",
       "      sqft_basement  yr_built  yr_renovated  zipcode      lat     long  \\\n",
       "7252           3480      1910          1987    98102  47.6298 -122.323   \n",
       "3914           2360      1940          2001    98004  47.6500 -122.214   \n",
       "9254           1030      2001             0    98039  47.6305 -122.240   \n",
       "4411           3000      2001             0    98039  47.6289 -122.233   \n",
       "1448           1280      2009             0    98004  47.6232 -122.220   \n",
       "1315           2390      1991             0    98040  47.5631 -122.210   \n",
       "1164           2020      1999             0    98033  47.6767 -122.211   \n",
       "8092           4820      1983          2009    98040  47.5570 -122.210   \n",
       "2626            290      2004             0    98155  47.7493 -122.280   \n",
       "8638              0      2001             0    98004  47.6208 -122.219   \n",
       "\n",
       "      sqft_living15  sqft_lot15  \n",
       "7252           3940        8800  \n",
       "3914           3930       25449  \n",
       "9254           4540       42730  \n",
       "4411           3560       24345  \n",
       "1448           4600       21750  \n",
       "1315           4320       24619  \n",
       "1164           3430       26788  \n",
       "8092           3270       10454  \n",
       "2626           3030       23408  \n",
       "8638           3720       14592  \n",
       "\n",
       "[10 rows x 21 columns]"
      ]
     },
     "execution_count": 68,
     "metadata": {},
     "output_type": "execute_result"
    }
   ],
   "source": [
    "kc_house.nlargest(10, ['price'])"
   ]
  },
  {
   "cell_type": "code",
   "execution_count": 69,
   "id": "722f8470",
   "metadata": {},
   "outputs": [
    {
     "data": {
      "text/html": [
       "<div>\n",
       "<style scoped>\n",
       "    .dataframe tbody tr th:only-of-type {\n",
       "        vertical-align: middle;\n",
       "    }\n",
       "\n",
       "    .dataframe tbody tr th {\n",
       "        vertical-align: top;\n",
       "    }\n",
       "\n",
       "    .dataframe thead th {\n",
       "        text-align: right;\n",
       "    }\n",
       "</style>\n",
       "<table border=\"1\" class=\"dataframe\">\n",
       "  <thead>\n",
       "    <tr style=\"text-align: right;\">\n",
       "      <th></th>\n",
       "      <th>id</th>\n",
       "      <th>date</th>\n",
       "      <th>price</th>\n",
       "      <th>bedrooms</th>\n",
       "      <th>bathrooms</th>\n",
       "      <th>sqft_living</th>\n",
       "      <th>sqft_lot</th>\n",
       "      <th>floors</th>\n",
       "      <th>waterfront</th>\n",
       "      <th>view</th>\n",
       "      <th>...</th>\n",
       "      <th>grade</th>\n",
       "      <th>sqft_above</th>\n",
       "      <th>sqft_basement</th>\n",
       "      <th>yr_built</th>\n",
       "      <th>yr_renovated</th>\n",
       "      <th>zipcode</th>\n",
       "      <th>lat</th>\n",
       "      <th>long</th>\n",
       "      <th>sqft_living15</th>\n",
       "      <th>sqft_lot15</th>\n",
       "    </tr>\n",
       "  </thead>\n",
       "  <tbody>\n",
       "    <tr>\n",
       "      <th>7252</th>\n",
       "      <td>6762700020</td>\n",
       "      <td>20141013T000000</td>\n",
       "      <td>7700000.0</td>\n",
       "      <td>6</td>\n",
       "      <td>8.00</td>\n",
       "      <td>12050</td>\n",
       "      <td>27600</td>\n",
       "      <td>2.5</td>\n",
       "      <td>0</td>\n",
       "      <td>3</td>\n",
       "      <td>...</td>\n",
       "      <td>13</td>\n",
       "      <td>8570</td>\n",
       "      <td>3480</td>\n",
       "      <td>1910</td>\n",
       "      <td>1987</td>\n",
       "      <td>98102</td>\n",
       "      <td>47.6298</td>\n",
       "      <td>-122.323</td>\n",
       "      <td>3940</td>\n",
       "      <td>8800</td>\n",
       "    </tr>\n",
       "    <tr>\n",
       "      <th>3914</th>\n",
       "      <td>9808700762</td>\n",
       "      <td>20140611T000000</td>\n",
       "      <td>7062500.0</td>\n",
       "      <td>5</td>\n",
       "      <td>4.50</td>\n",
       "      <td>10040</td>\n",
       "      <td>37325</td>\n",
       "      <td>2.0</td>\n",
       "      <td>1</td>\n",
       "      <td>2</td>\n",
       "      <td>...</td>\n",
       "      <td>11</td>\n",
       "      <td>7680</td>\n",
       "      <td>2360</td>\n",
       "      <td>1940</td>\n",
       "      <td>2001</td>\n",
       "      <td>98004</td>\n",
       "      <td>47.6500</td>\n",
       "      <td>-122.214</td>\n",
       "      <td>3930</td>\n",
       "      <td>25449</td>\n",
       "    </tr>\n",
       "    <tr>\n",
       "      <th>9254</th>\n",
       "      <td>9208900037</td>\n",
       "      <td>20140919T000000</td>\n",
       "      <td>6885000.0</td>\n",
       "      <td>6</td>\n",
       "      <td>7.75</td>\n",
       "      <td>9890</td>\n",
       "      <td>31374</td>\n",
       "      <td>2.0</td>\n",
       "      <td>0</td>\n",
       "      <td>4</td>\n",
       "      <td>...</td>\n",
       "      <td>13</td>\n",
       "      <td>8860</td>\n",
       "      <td>1030</td>\n",
       "      <td>2001</td>\n",
       "      <td>0</td>\n",
       "      <td>98039</td>\n",
       "      <td>47.6305</td>\n",
       "      <td>-122.240</td>\n",
       "      <td>4540</td>\n",
       "      <td>42730</td>\n",
       "    </tr>\n",
       "    <tr>\n",
       "      <th>4411</th>\n",
       "      <td>2470100110</td>\n",
       "      <td>20140804T000000</td>\n",
       "      <td>5570000.0</td>\n",
       "      <td>5</td>\n",
       "      <td>5.75</td>\n",
       "      <td>9200</td>\n",
       "      <td>35069</td>\n",
       "      <td>2.0</td>\n",
       "      <td>0</td>\n",
       "      <td>0</td>\n",
       "      <td>...</td>\n",
       "      <td>13</td>\n",
       "      <td>6200</td>\n",
       "      <td>3000</td>\n",
       "      <td>2001</td>\n",
       "      <td>0</td>\n",
       "      <td>98039</td>\n",
       "      <td>47.6289</td>\n",
       "      <td>-122.233</td>\n",
       "      <td>3560</td>\n",
       "      <td>24345</td>\n",
       "    </tr>\n",
       "    <tr>\n",
       "      <th>1448</th>\n",
       "      <td>8907500070</td>\n",
       "      <td>20150413T000000</td>\n",
       "      <td>5350000.0</td>\n",
       "      <td>5</td>\n",
       "      <td>5.00</td>\n",
       "      <td>8000</td>\n",
       "      <td>23985</td>\n",
       "      <td>2.0</td>\n",
       "      <td>0</td>\n",
       "      <td>4</td>\n",
       "      <td>...</td>\n",
       "      <td>12</td>\n",
       "      <td>6720</td>\n",
       "      <td>1280</td>\n",
       "      <td>2009</td>\n",
       "      <td>0</td>\n",
       "      <td>98004</td>\n",
       "      <td>47.6232</td>\n",
       "      <td>-122.220</td>\n",
       "      <td>4600</td>\n",
       "      <td>21750</td>\n",
       "    </tr>\n",
       "    <tr>\n",
       "      <th>1315</th>\n",
       "      <td>7558700030</td>\n",
       "      <td>20150413T000000</td>\n",
       "      <td>5300000.0</td>\n",
       "      <td>6</td>\n",
       "      <td>6.00</td>\n",
       "      <td>7390</td>\n",
       "      <td>24829</td>\n",
       "      <td>2.0</td>\n",
       "      <td>1</td>\n",
       "      <td>4</td>\n",
       "      <td>...</td>\n",
       "      <td>12</td>\n",
       "      <td>5000</td>\n",
       "      <td>2390</td>\n",
       "      <td>1991</td>\n",
       "      <td>0</td>\n",
       "      <td>98040</td>\n",
       "      <td>47.5631</td>\n",
       "      <td>-122.210</td>\n",
       "      <td>4320</td>\n",
       "      <td>24619</td>\n",
       "    </tr>\n",
       "    <tr>\n",
       "      <th>1164</th>\n",
       "      <td>1247600105</td>\n",
       "      <td>20141020T000000</td>\n",
       "      <td>5110800.0</td>\n",
       "      <td>5</td>\n",
       "      <td>5.25</td>\n",
       "      <td>8010</td>\n",
       "      <td>45517</td>\n",
       "      <td>2.0</td>\n",
       "      <td>1</td>\n",
       "      <td>4</td>\n",
       "      <td>...</td>\n",
       "      <td>12</td>\n",
       "      <td>5990</td>\n",
       "      <td>2020</td>\n",
       "      <td>1999</td>\n",
       "      <td>0</td>\n",
       "      <td>98033</td>\n",
       "      <td>47.6767</td>\n",
       "      <td>-122.211</td>\n",
       "      <td>3430</td>\n",
       "      <td>26788</td>\n",
       "    </tr>\n",
       "    <tr>\n",
       "      <th>8092</th>\n",
       "      <td>1924059029</td>\n",
       "      <td>20140617T000000</td>\n",
       "      <td>4668000.0</td>\n",
       "      <td>5</td>\n",
       "      <td>6.75</td>\n",
       "      <td>9640</td>\n",
       "      <td>13068</td>\n",
       "      <td>1.0</td>\n",
       "      <td>1</td>\n",
       "      <td>4</td>\n",
       "      <td>...</td>\n",
       "      <td>12</td>\n",
       "      <td>4820</td>\n",
       "      <td>4820</td>\n",
       "      <td>1983</td>\n",
       "      <td>2009</td>\n",
       "      <td>98040</td>\n",
       "      <td>47.5570</td>\n",
       "      <td>-122.210</td>\n",
       "      <td>3270</td>\n",
       "      <td>10454</td>\n",
       "    </tr>\n",
       "    <tr>\n",
       "      <th>2626</th>\n",
       "      <td>7738500731</td>\n",
       "      <td>20140815T000000</td>\n",
       "      <td>4500000.0</td>\n",
       "      <td>5</td>\n",
       "      <td>5.50</td>\n",
       "      <td>6640</td>\n",
       "      <td>40014</td>\n",
       "      <td>2.0</td>\n",
       "      <td>1</td>\n",
       "      <td>4</td>\n",
       "      <td>...</td>\n",
       "      <td>12</td>\n",
       "      <td>6350</td>\n",
       "      <td>290</td>\n",
       "      <td>2004</td>\n",
       "      <td>0</td>\n",
       "      <td>98155</td>\n",
       "      <td>47.7493</td>\n",
       "      <td>-122.280</td>\n",
       "      <td>3030</td>\n",
       "      <td>23408</td>\n",
       "    </tr>\n",
       "    <tr>\n",
       "      <th>8638</th>\n",
       "      <td>3835500195</td>\n",
       "      <td>20140618T000000</td>\n",
       "      <td>4489000.0</td>\n",
       "      <td>4</td>\n",
       "      <td>3.00</td>\n",
       "      <td>6430</td>\n",
       "      <td>27517</td>\n",
       "      <td>2.0</td>\n",
       "      <td>0</td>\n",
       "      <td>0</td>\n",
       "      <td>...</td>\n",
       "      <td>12</td>\n",
       "      <td>6430</td>\n",
       "      <td>0</td>\n",
       "      <td>2001</td>\n",
       "      <td>0</td>\n",
       "      <td>98004</td>\n",
       "      <td>47.6208</td>\n",
       "      <td>-122.219</td>\n",
       "      <td>3720</td>\n",
       "      <td>14592</td>\n",
       "    </tr>\n",
       "  </tbody>\n",
       "</table>\n",
       "<p>10 rows × 21 columns</p>\n",
       "</div>"
      ],
      "text/plain": [
       "              id             date      price  bedrooms  bathrooms  \\\n",
       "7252  6762700020  20141013T000000  7700000.0         6       8.00   \n",
       "3914  9808700762  20140611T000000  7062500.0         5       4.50   \n",
       "9254  9208900037  20140919T000000  6885000.0         6       7.75   \n",
       "4411  2470100110  20140804T000000  5570000.0         5       5.75   \n",
       "1448  8907500070  20150413T000000  5350000.0         5       5.00   \n",
       "1315  7558700030  20150413T000000  5300000.0         6       6.00   \n",
       "1164  1247600105  20141020T000000  5110800.0         5       5.25   \n",
       "8092  1924059029  20140617T000000  4668000.0         5       6.75   \n",
       "2626  7738500731  20140815T000000  4500000.0         5       5.50   \n",
       "8638  3835500195  20140618T000000  4489000.0         4       3.00   \n",
       "\n",
       "      sqft_living  sqft_lot  floors  waterfront  view  ...  grade  sqft_above  \\\n",
       "7252        12050     27600     2.5           0     3  ...     13        8570   \n",
       "3914        10040     37325     2.0           1     2  ...     11        7680   \n",
       "9254         9890     31374     2.0           0     4  ...     13        8860   \n",
       "4411         9200     35069     2.0           0     0  ...     13        6200   \n",
       "1448         8000     23985     2.0           0     4  ...     12        6720   \n",
       "1315         7390     24829     2.0           1     4  ...     12        5000   \n",
       "1164         8010     45517     2.0           1     4  ...     12        5990   \n",
       "8092         9640     13068     1.0           1     4  ...     12        4820   \n",
       "2626         6640     40014     2.0           1     4  ...     12        6350   \n",
       "8638         6430     27517     2.0           0     0  ...     12        6430   \n",
       "\n",
       "      sqft_basement  yr_built  yr_renovated  zipcode      lat     long  \\\n",
       "7252           3480      1910          1987    98102  47.6298 -122.323   \n",
       "3914           2360      1940          2001    98004  47.6500 -122.214   \n",
       "9254           1030      2001             0    98039  47.6305 -122.240   \n",
       "4411           3000      2001             0    98039  47.6289 -122.233   \n",
       "1448           1280      2009             0    98004  47.6232 -122.220   \n",
       "1315           2390      1991             0    98040  47.5631 -122.210   \n",
       "1164           2020      1999             0    98033  47.6767 -122.211   \n",
       "8092           4820      1983          2009    98040  47.5570 -122.210   \n",
       "2626            290      2004             0    98155  47.7493 -122.280   \n",
       "8638              0      2001             0    98004  47.6208 -122.219   \n",
       "\n",
       "      sqft_living15  sqft_lot15  \n",
       "7252           3940        8800  \n",
       "3914           3930       25449  \n",
       "9254           4540       42730  \n",
       "4411           3560       24345  \n",
       "1448           4600       21750  \n",
       "1315           4320       24619  \n",
       "1164           3430       26788  \n",
       "8092           3270       10454  \n",
       "2626           3030       23408  \n",
       "8638           3720       14592  \n",
       "\n",
       "[10 rows x 21 columns]"
      ]
     },
     "execution_count": 69,
     "metadata": {},
     "output_type": "execute_result"
    }
   ],
   "source": [
    "kc_house.nlargest(10, ['price', 'bedrooms'])"
   ]
  },
  {
   "cell_type": "code",
   "execution_count": 70,
   "id": "9b155cfb",
   "metadata": {},
   "outputs": [
    {
     "name": "stdout",
     "output_type": "stream",
     "text": [
      "<class 'pandas.core.frame.DataFrame'>\n",
      "Int64Index: 8807 entries, 0 to 8806\n",
      "Data columns (total 12 columns):\n",
      " #   Column        Non-Null Count  Dtype \n",
      "---  ------        --------------  ----- \n",
      " 0   show_id       8807 non-null   object\n",
      " 1   type          8807 non-null   object\n",
      " 2   title         8807 non-null   object\n",
      " 3   director      6173 non-null   object\n",
      " 4   cast          7982 non-null   object\n",
      " 5   country       7976 non-null   object\n",
      " 6   date_added    8797 non-null   object\n",
      " 7   release_year  8807 non-null   int64 \n",
      " 8   rating        8803 non-null   object\n",
      " 9   duration      8804 non-null   object\n",
      " 10  listed_in     8807 non-null   object\n",
      " 11  description   8807 non-null   object\n",
      "dtypes: int64(1), object(11)\n",
      "memory usage: 894.5+ KB\n"
     ]
    }
   ],
   "source": [
    "netflix.info()"
   ]
  },
  {
   "cell_type": "markdown",
   "id": "091195cb",
   "metadata": {},
   "source": [
    "# Note\n",
    "* you can use nasted list to use the multiply columns \n",
    "* it's easy to use "
   ]
  },
  {
   "cell_type": "code",
   "execution_count": 71,
   "id": "1efb753f",
   "metadata": {},
   "outputs": [
    {
     "data": {
      "text/html": [
       "<div>\n",
       "<style scoped>\n",
       "    .dataframe tbody tr th:only-of-type {\n",
       "        vertical-align: middle;\n",
       "    }\n",
       "\n",
       "    .dataframe tbody tr th {\n",
       "        vertical-align: top;\n",
       "    }\n",
       "\n",
       "    .dataframe thead th {\n",
       "        text-align: right;\n",
       "    }\n",
       "</style>\n",
       "<table border=\"1\" class=\"dataframe\">\n",
       "  <thead>\n",
       "    <tr style=\"text-align: right;\">\n",
       "      <th></th>\n",
       "      <th>title</th>\n",
       "      <th>release_year</th>\n",
       "    </tr>\n",
       "  </thead>\n",
       "  <tbody>\n",
       "    <tr>\n",
       "      <th>0</th>\n",
       "      <td>Dick Johnson Is Dead</td>\n",
       "      <td>2020</td>\n",
       "    </tr>\n",
       "    <tr>\n",
       "      <th>1</th>\n",
       "      <td>Blood &amp; Water</td>\n",
       "      <td>2021</td>\n",
       "    </tr>\n",
       "    <tr>\n",
       "      <th>2</th>\n",
       "      <td>Ganglands</td>\n",
       "      <td>2021</td>\n",
       "    </tr>\n",
       "    <tr>\n",
       "      <th>3</th>\n",
       "      <td>Jailbirds New Orleans</td>\n",
       "      <td>2021</td>\n",
       "    </tr>\n",
       "    <tr>\n",
       "      <th>4</th>\n",
       "      <td>Kota Factory</td>\n",
       "      <td>2021</td>\n",
       "    </tr>\n",
       "    <tr>\n",
       "      <th>5</th>\n",
       "      <td>Midnight Mass</td>\n",
       "      <td>2021</td>\n",
       "    </tr>\n",
       "    <tr>\n",
       "      <th>6</th>\n",
       "      <td>My Little Pony: A New Generation</td>\n",
       "      <td>2021</td>\n",
       "    </tr>\n",
       "    <tr>\n",
       "      <th>7</th>\n",
       "      <td>Sankofa</td>\n",
       "      <td>1993</td>\n",
       "    </tr>\n",
       "    <tr>\n",
       "      <th>8</th>\n",
       "      <td>The Great British Baking Show</td>\n",
       "      <td>2021</td>\n",
       "    </tr>\n",
       "    <tr>\n",
       "      <th>9</th>\n",
       "      <td>The Starling</td>\n",
       "      <td>2021</td>\n",
       "    </tr>\n",
       "    <tr>\n",
       "      <th>10</th>\n",
       "      <td>Vendetta: Truth, Lies and The Mafia</td>\n",
       "      <td>2021</td>\n",
       "    </tr>\n",
       "    <tr>\n",
       "      <th>11</th>\n",
       "      <td>Bangkok Breaking</td>\n",
       "      <td>2021</td>\n",
       "    </tr>\n",
       "    <tr>\n",
       "      <th>12</th>\n",
       "      <td>Je Suis Karl</td>\n",
       "      <td>2021</td>\n",
       "    </tr>\n",
       "    <tr>\n",
       "      <th>13</th>\n",
       "      <td>Confessions of an Invisible Girl</td>\n",
       "      <td>2021</td>\n",
       "    </tr>\n",
       "    <tr>\n",
       "      <th>14</th>\n",
       "      <td>Crime Stories: India Detectives</td>\n",
       "      <td>2021</td>\n",
       "    </tr>\n",
       "    <tr>\n",
       "      <th>15</th>\n",
       "      <td>Dear White People</td>\n",
       "      <td>2021</td>\n",
       "    </tr>\n",
       "    <tr>\n",
       "      <th>16</th>\n",
       "      <td>Europe's Most Dangerous Man: Otto Skorzeny in ...</td>\n",
       "      <td>2020</td>\n",
       "    </tr>\n",
       "    <tr>\n",
       "      <th>17</th>\n",
       "      <td>Falsa identidad</td>\n",
       "      <td>2020</td>\n",
       "    </tr>\n",
       "    <tr>\n",
       "      <th>18</th>\n",
       "      <td>Intrusion</td>\n",
       "      <td>2021</td>\n",
       "    </tr>\n",
       "    <tr>\n",
       "      <th>19</th>\n",
       "      <td>Jaguar</td>\n",
       "      <td>2021</td>\n",
       "    </tr>\n",
       "  </tbody>\n",
       "</table>\n",
       "</div>"
      ],
      "text/plain": [
       "                                                title  release_year\n",
       "0                                Dick Johnson Is Dead          2020\n",
       "1                                       Blood & Water          2021\n",
       "2                                           Ganglands          2021\n",
       "3                               Jailbirds New Orleans          2021\n",
       "4                                        Kota Factory          2021\n",
       "5                                       Midnight Mass          2021\n",
       "6                    My Little Pony: A New Generation          2021\n",
       "7                                             Sankofa          1993\n",
       "8                       The Great British Baking Show          2021\n",
       "9                                        The Starling          2021\n",
       "10                Vendetta: Truth, Lies and The Mafia          2021\n",
       "11                                   Bangkok Breaking          2021\n",
       "12                                       Je Suis Karl          2021\n",
       "13                   Confessions of an Invisible Girl          2021\n",
       "14                    Crime Stories: India Detectives          2021\n",
       "15                                  Dear White People          2021\n",
       "16  Europe's Most Dangerous Man: Otto Skorzeny in ...          2020\n",
       "17                                    Falsa identidad          2020\n",
       "18                                          Intrusion          2021\n",
       "19                                             Jaguar          2021"
      ]
     },
     "execution_count": 71,
     "metadata": {},
     "output_type": "execute_result"
    }
   ],
   "source": [
    "netflix[['title', 'release_year']].head(20)"
   ]
  },
  {
   "cell_type": "code",
   "execution_count": 72,
   "id": "f071859f",
   "metadata": {},
   "outputs": [
    {
     "name": "stdout",
     "output_type": "stream",
     "text": [
      "<class 'pandas.core.frame.DataFrame'>\n",
      "RangeIndex: 21613 entries, 0 to 21612\n",
      "Data columns (total 21 columns):\n",
      " #   Column         Non-Null Count  Dtype  \n",
      "---  ------         --------------  -----  \n",
      " 0   id             21613 non-null  int64  \n",
      " 1   date           21613 non-null  object \n",
      " 2   price          21613 non-null  float64\n",
      " 3   bedrooms       21613 non-null  int64  \n",
      " 4   bathrooms      21613 non-null  float64\n",
      " 5   sqft_living    21613 non-null  int64  \n",
      " 6   sqft_lot       21613 non-null  int64  \n",
      " 7   floors         21613 non-null  float64\n",
      " 8   waterfront     21613 non-null  int64  \n",
      " 9   view           21613 non-null  int64  \n",
      " 10  condition      21613 non-null  int64  \n",
      " 11  grade          21613 non-null  int64  \n",
      " 12  sqft_above     21613 non-null  int64  \n",
      " 13  sqft_basement  21613 non-null  int64  \n",
      " 14  yr_built       21613 non-null  int64  \n",
      " 15  yr_renovated   21613 non-null  int64  \n",
      " 16  zipcode        21613 non-null  int64  \n",
      " 17  lat            21613 non-null  float64\n",
      " 18  long           21613 non-null  float64\n",
      " 19  sqft_living15  21613 non-null  int64  \n",
      " 20  sqft_lot15     21613 non-null  int64  \n",
      "dtypes: float64(5), int64(15), object(1)\n",
      "memory usage: 3.5+ MB\n"
     ]
    }
   ],
   "source": [
    "kc_house.info()"
   ]
  },
  {
   "cell_type": "code",
   "execution_count": 73,
   "id": "91c9f44d",
   "metadata": {},
   "outputs": [
    {
     "data": {
      "text/html": [
       "<div>\n",
       "<style scoped>\n",
       "    .dataframe tbody tr th:only-of-type {\n",
       "        vertical-align: middle;\n",
       "    }\n",
       "\n",
       "    .dataframe tbody tr th {\n",
       "        vertical-align: top;\n",
       "    }\n",
       "\n",
       "    .dataframe thead th {\n",
       "        text-align: right;\n",
       "    }\n",
       "</style>\n",
       "<table border=\"1\" class=\"dataframe\">\n",
       "  <thead>\n",
       "    <tr style=\"text-align: right;\">\n",
       "      <th></th>\n",
       "      <th>date</th>\n",
       "      <th>price</th>\n",
       "      <th>zipcode</th>\n",
       "    </tr>\n",
       "  </thead>\n",
       "  <tbody>\n",
       "    <tr>\n",
       "      <th>0</th>\n",
       "      <td>20141013T000000</td>\n",
       "      <td>221900.0</td>\n",
       "      <td>98178</td>\n",
       "    </tr>\n",
       "    <tr>\n",
       "      <th>1</th>\n",
       "      <td>20141209T000000</td>\n",
       "      <td>538000.0</td>\n",
       "      <td>98125</td>\n",
       "    </tr>\n",
       "    <tr>\n",
       "      <th>2</th>\n",
       "      <td>20150225T000000</td>\n",
       "      <td>180000.0</td>\n",
       "      <td>98028</td>\n",
       "    </tr>\n",
       "    <tr>\n",
       "      <th>3</th>\n",
       "      <td>20141209T000000</td>\n",
       "      <td>604000.0</td>\n",
       "      <td>98136</td>\n",
       "    </tr>\n",
       "    <tr>\n",
       "      <th>4</th>\n",
       "      <td>20150218T000000</td>\n",
       "      <td>510000.0</td>\n",
       "      <td>98074</td>\n",
       "    </tr>\n",
       "    <tr>\n",
       "      <th>5</th>\n",
       "      <td>20140512T000000</td>\n",
       "      <td>1225000.0</td>\n",
       "      <td>98053</td>\n",
       "    </tr>\n",
       "    <tr>\n",
       "      <th>6</th>\n",
       "      <td>20140627T000000</td>\n",
       "      <td>257500.0</td>\n",
       "      <td>98003</td>\n",
       "    </tr>\n",
       "    <tr>\n",
       "      <th>7</th>\n",
       "      <td>20150115T000000</td>\n",
       "      <td>291850.0</td>\n",
       "      <td>98198</td>\n",
       "    </tr>\n",
       "    <tr>\n",
       "      <th>8</th>\n",
       "      <td>20150415T000000</td>\n",
       "      <td>229500.0</td>\n",
       "      <td>98146</td>\n",
       "    </tr>\n",
       "    <tr>\n",
       "      <th>9</th>\n",
       "      <td>20150312T000000</td>\n",
       "      <td>323000.0</td>\n",
       "      <td>98038</td>\n",
       "    </tr>\n",
       "    <tr>\n",
       "      <th>10</th>\n",
       "      <td>20150403T000000</td>\n",
       "      <td>662500.0</td>\n",
       "      <td>98007</td>\n",
       "    </tr>\n",
       "    <tr>\n",
       "      <th>11</th>\n",
       "      <td>20140527T000000</td>\n",
       "      <td>468000.0</td>\n",
       "      <td>98115</td>\n",
       "    </tr>\n",
       "    <tr>\n",
       "      <th>12</th>\n",
       "      <td>20140528T000000</td>\n",
       "      <td>310000.0</td>\n",
       "      <td>98028</td>\n",
       "    </tr>\n",
       "    <tr>\n",
       "      <th>13</th>\n",
       "      <td>20141007T000000</td>\n",
       "      <td>400000.0</td>\n",
       "      <td>98074</td>\n",
       "    </tr>\n",
       "    <tr>\n",
       "      <th>14</th>\n",
       "      <td>20150312T000000</td>\n",
       "      <td>530000.0</td>\n",
       "      <td>98107</td>\n",
       "    </tr>\n",
       "    <tr>\n",
       "      <th>15</th>\n",
       "      <td>20150124T000000</td>\n",
       "      <td>650000.0</td>\n",
       "      <td>98126</td>\n",
       "    </tr>\n",
       "    <tr>\n",
       "      <th>16</th>\n",
       "      <td>20140731T000000</td>\n",
       "      <td>395000.0</td>\n",
       "      <td>98019</td>\n",
       "    </tr>\n",
       "    <tr>\n",
       "      <th>17</th>\n",
       "      <td>20140529T000000</td>\n",
       "      <td>485000.0</td>\n",
       "      <td>98103</td>\n",
       "    </tr>\n",
       "    <tr>\n",
       "      <th>18</th>\n",
       "      <td>20141205T000000</td>\n",
       "      <td>189000.0</td>\n",
       "      <td>98002</td>\n",
       "    </tr>\n",
       "    <tr>\n",
       "      <th>19</th>\n",
       "      <td>20150424T000000</td>\n",
       "      <td>230000.0</td>\n",
       "      <td>98003</td>\n",
       "    </tr>\n",
       "  </tbody>\n",
       "</table>\n",
       "</div>"
      ],
      "text/plain": [
       "               date      price  zipcode\n",
       "0   20141013T000000   221900.0    98178\n",
       "1   20141209T000000   538000.0    98125\n",
       "2   20150225T000000   180000.0    98028\n",
       "3   20141209T000000   604000.0    98136\n",
       "4   20150218T000000   510000.0    98074\n",
       "5   20140512T000000  1225000.0    98053\n",
       "6   20140627T000000   257500.0    98003\n",
       "7   20150115T000000   291850.0    98198\n",
       "8   20150415T000000   229500.0    98146\n",
       "9   20150312T000000   323000.0    98038\n",
       "10  20150403T000000   662500.0    98007\n",
       "11  20140527T000000   468000.0    98115\n",
       "12  20140528T000000   310000.0    98028\n",
       "13  20141007T000000   400000.0    98074\n",
       "14  20150312T000000   530000.0    98107\n",
       "15  20150124T000000   650000.0    98126\n",
       "16  20140731T000000   395000.0    98019\n",
       "17  20140529T000000   485000.0    98103\n",
       "18  20141205T000000   189000.0    98002\n",
       "19  20150424T000000   230000.0    98003"
      ]
     },
     "execution_count": 73,
     "metadata": {},
     "output_type": "execute_result"
    }
   ],
   "source": [
    "kc_house[['date', 'price', 'zipcode']].head(20)"
   ]
  },
  {
   "cell_type": "code",
   "execution_count": 74,
   "id": "72713c45",
   "metadata": {},
   "outputs": [
    {
     "data": {
      "text/html": [
       "<div>\n",
       "<style scoped>\n",
       "    .dataframe tbody tr th:only-of-type {\n",
       "        vertical-align: middle;\n",
       "    }\n",
       "\n",
       "    .dataframe tbody tr th {\n",
       "        vertical-align: top;\n",
       "    }\n",
       "\n",
       "    .dataframe thead th {\n",
       "        text-align: right;\n",
       "    }\n",
       "</style>\n",
       "<table border=\"1\" class=\"dataframe\">\n",
       "  <thead>\n",
       "    <tr style=\"text-align: right;\">\n",
       "      <th></th>\n",
       "      <th>price</th>\n",
       "      <th>zipcode</th>\n",
       "    </tr>\n",
       "  </thead>\n",
       "  <tbody>\n",
       "    <tr>\n",
       "      <th>count</th>\n",
       "      <td>2.161300e+04</td>\n",
       "      <td>21613.000000</td>\n",
       "    </tr>\n",
       "    <tr>\n",
       "      <th>mean</th>\n",
       "      <td>5.400881e+05</td>\n",
       "      <td>98077.939805</td>\n",
       "    </tr>\n",
       "    <tr>\n",
       "      <th>std</th>\n",
       "      <td>3.671272e+05</td>\n",
       "      <td>53.505026</td>\n",
       "    </tr>\n",
       "    <tr>\n",
       "      <th>min</th>\n",
       "      <td>7.500000e+04</td>\n",
       "      <td>98001.000000</td>\n",
       "    </tr>\n",
       "    <tr>\n",
       "      <th>25%</th>\n",
       "      <td>3.219500e+05</td>\n",
       "      <td>98033.000000</td>\n",
       "    </tr>\n",
       "    <tr>\n",
       "      <th>50%</th>\n",
       "      <td>4.500000e+05</td>\n",
       "      <td>98065.000000</td>\n",
       "    </tr>\n",
       "    <tr>\n",
       "      <th>75%</th>\n",
       "      <td>6.450000e+05</td>\n",
       "      <td>98118.000000</td>\n",
       "    </tr>\n",
       "    <tr>\n",
       "      <th>max</th>\n",
       "      <td>7.700000e+06</td>\n",
       "      <td>98199.000000</td>\n",
       "    </tr>\n",
       "  </tbody>\n",
       "</table>\n",
       "</div>"
      ],
      "text/plain": [
       "              price       zipcode\n",
       "count  2.161300e+04  21613.000000\n",
       "mean   5.400881e+05  98077.939805\n",
       "std    3.671272e+05     53.505026\n",
       "min    7.500000e+04  98001.000000\n",
       "25%    3.219500e+05  98033.000000\n",
       "50%    4.500000e+05  98065.000000\n",
       "75%    6.450000e+05  98118.000000\n",
       "max    7.700000e+06  98199.000000"
      ]
     },
     "execution_count": 74,
     "metadata": {},
     "output_type": "execute_result"
    }
   ],
   "source": [
    "kc_house[['date', 'price', 'zipcode']].describe()"
   ]
  },
  {
   "cell_type": "markdown",
   "id": "4c3fabf6",
   "metadata": {},
   "source": [
    "# Note\n",
    "* we can use value_count to count each for example ho many rome with n number rom exict in house"
   ]
  },
  {
   "cell_type": "code",
   "execution_count": 75,
   "id": "d9ff0231",
   "metadata": {},
   "outputs": [
    {
     "data": {
      "text/html": [
       "<div>\n",
       "<style scoped>\n",
       "    .dataframe tbody tr th:only-of-type {\n",
       "        vertical-align: middle;\n",
       "    }\n",
       "\n",
       "    .dataframe tbody tr th {\n",
       "        vertical-align: top;\n",
       "    }\n",
       "\n",
       "    .dataframe thead th {\n",
       "        text-align: right;\n",
       "    }\n",
       "</style>\n",
       "<table border=\"1\" class=\"dataframe\">\n",
       "  <thead>\n",
       "    <tr style=\"text-align: right;\">\n",
       "      <th></th>\n",
       "      <th>date</th>\n",
       "      <th>price</th>\n",
       "      <th>zipcode</th>\n",
       "    </tr>\n",
       "  </thead>\n",
       "  <tbody>\n",
       "    <tr>\n",
       "      <th>0</th>\n",
       "      <td>20141013T000000</td>\n",
       "      <td>221900.0</td>\n",
       "      <td>98178</td>\n",
       "    </tr>\n",
       "    <tr>\n",
       "      <th>1</th>\n",
       "      <td>20141209T000000</td>\n",
       "      <td>538000.0</td>\n",
       "      <td>98125</td>\n",
       "    </tr>\n",
       "    <tr>\n",
       "      <th>2</th>\n",
       "      <td>20150225T000000</td>\n",
       "      <td>180000.0</td>\n",
       "      <td>98028</td>\n",
       "    </tr>\n",
       "    <tr>\n",
       "      <th>3</th>\n",
       "      <td>20141209T000000</td>\n",
       "      <td>604000.0</td>\n",
       "      <td>98136</td>\n",
       "    </tr>\n",
       "    <tr>\n",
       "      <th>4</th>\n",
       "      <td>20150218T000000</td>\n",
       "      <td>510000.0</td>\n",
       "      <td>98074</td>\n",
       "    </tr>\n",
       "    <tr>\n",
       "      <th>5</th>\n",
       "      <td>20140512T000000</td>\n",
       "      <td>1225000.0</td>\n",
       "      <td>98053</td>\n",
       "    </tr>\n",
       "    <tr>\n",
       "      <th>6</th>\n",
       "      <td>20140627T000000</td>\n",
       "      <td>257500.0</td>\n",
       "      <td>98003</td>\n",
       "    </tr>\n",
       "  </tbody>\n",
       "</table>\n",
       "</div>"
      ],
      "text/plain": [
       "              date      price  zipcode\n",
       "0  20141013T000000   221900.0    98178\n",
       "1  20141209T000000   538000.0    98125\n",
       "2  20150225T000000   180000.0    98028\n",
       "3  20141209T000000   604000.0    98136\n",
       "4  20150218T000000   510000.0    98074\n",
       "5  20140512T000000  1225000.0    98053\n",
       "6  20140627T000000   257500.0    98003"
      ]
     },
     "execution_count": 75,
     "metadata": {},
     "output_type": "execute_result"
    }
   ],
   "source": [
    "cols = ['date', 'price', 'zipcode']\n",
    "kc_house[cols].head(7)"
   ]
  },
  {
   "cell_type": "code",
   "execution_count": 76,
   "id": "80ae13f4",
   "metadata": {},
   "outputs": [
    {
     "data": {
      "text/plain": [
       "0        221900.0\n",
       "1        538000.0\n",
       "2        180000.0\n",
       "3        604000.0\n",
       "4        510000.0\n",
       "           ...   \n",
       "21608    360000.0\n",
       "21609    400000.0\n",
       "21610    402101.0\n",
       "21611    400000.0\n",
       "21612    325000.0\n",
       "Name: price, Length: 21613, dtype: float64"
      ]
     },
     "execution_count": 76,
     "metadata": {},
     "output_type": "execute_result"
    }
   ],
   "source": [
    "kc_house.price"
   ]
  },
  {
   "cell_type": "code",
   "execution_count": 77,
   "id": "cf1a5992",
   "metadata": {},
   "outputs": [
    {
     "data": {
      "text/plain": [
       "350000.0     172\n",
       "450000.0     172\n",
       "550000.0     159\n",
       "500000.0     152\n",
       "425000.0     150\n",
       "            ... \n",
       "607010.0       1\n",
       "1362500.0      1\n",
       "298800.0       1\n",
       "957500.0       1\n",
       "402101.0       1\n",
       "Name: price, Length: 4028, dtype: int64"
      ]
     },
     "execution_count": 77,
     "metadata": {},
     "output_type": "execute_result"
    }
   ],
   "source": [
    "kc_house['price'].value_counts()"
   ]
  },
  {
   "cell_type": "code",
   "execution_count": 78,
   "id": "3f583933",
   "metadata": {},
   "outputs": [
    {
     "data": {
      "text/plain": [
       "0        3\n",
       "1        3\n",
       "2        2\n",
       "3        4\n",
       "4        3\n",
       "        ..\n",
       "21608    3\n",
       "21609    4\n",
       "21610    2\n",
       "21611    3\n",
       "21612    2\n",
       "Name: bedrooms, Length: 21613, dtype: int64"
      ]
     },
     "execution_count": 78,
     "metadata": {},
     "output_type": "execute_result"
    }
   ],
   "source": [
    "kc_house['bedrooms']"
   ]
  },
  {
   "cell_type": "code",
   "execution_count": 79,
   "id": "807f04d2",
   "metadata": {},
   "outputs": [
    {
     "data": {
      "text/plain": [
       "13"
      ]
     },
     "execution_count": 79,
     "metadata": {},
     "output_type": "execute_result"
    }
   ],
   "source": [
    "# This Show You How Much Uniqe Value Do You Have in Your DataSets\n",
    "kc_house['bedrooms'].nunique()"
   ]
  },
  {
   "cell_type": "code",
   "execution_count": 80,
   "id": "883be4bc",
   "metadata": {},
   "outputs": [
    {
     "data": {
      "text/plain": [
       "3     9824\n",
       "4     6882\n",
       "2     2760\n",
       "5     1601\n",
       "6      272\n",
       "1      199\n",
       "7       38\n",
       "0       13\n",
       "8       13\n",
       "9        6\n",
       "10       3\n",
       "11       1\n",
       "33       1\n",
       "Name: bedrooms, dtype: int64"
      ]
     },
     "execution_count": 80,
     "metadata": {},
     "output_type": "execute_result"
    }
   ],
   "source": [
    "# But This Show All That n Uniqe Value For Example in kc_house['bedrooms'].nunique() has 13\n",
    "# And kc_house['bedrooms'].value_counts() Will Show That 13 Uniqe Value\n",
    "kc_house['bedrooms'].value_counts()"
   ]
  },
  {
   "cell_type": "code",
   "execution_count": 81,
   "id": "c74705e3",
   "metadata": {},
   "outputs": [
    {
     "data": {
      "text/plain": [
       "male      843\n",
       "female    466\n",
       "Name: sex, dtype: int64"
      ]
     },
     "execution_count": 81,
     "metadata": {},
     "output_type": "execute_result"
    }
   ],
   "source": [
    "titanic.sex.value_counts()"
   ]
  },
  {
   "cell_type": "code",
   "execution_count": 82,
   "id": "fee0feb3",
   "metadata": {},
   "outputs": [
    {
     "data": {
      "text/plain": [
       "Movie      6131\n",
       "TV Show    2676\n",
       "Name: type, dtype: int64"
      ]
     },
     "execution_count": 82,
     "metadata": {},
     "output_type": "execute_result"
    }
   ],
   "source": [
    "netflix.type.value_counts()"
   ]
  },
  {
   "cell_type": "code",
   "execution_count": 83,
   "id": "87c9f5f9",
   "metadata": {},
   "outputs": [
    {
     "name": "stdout",
     "output_type": "stream",
     "text": [
      "<class 'pandas.core.frame.DataFrame'>\n",
      "Int64Index: 8807 entries, 0 to 8806\n",
      "Data columns (total 12 columns):\n",
      " #   Column        Non-Null Count  Dtype \n",
      "---  ------        --------------  ----- \n",
      " 0   show_id       8807 non-null   object\n",
      " 1   type          8807 non-null   object\n",
      " 2   title         8807 non-null   object\n",
      " 3   director      6173 non-null   object\n",
      " 4   cast          7982 non-null   object\n",
      " 5   country       7976 non-null   object\n",
      " 6   date_added    8797 non-null   object\n",
      " 7   release_year  8807 non-null   int64 \n",
      " 8   rating        8803 non-null   object\n",
      " 9   duration      8804 non-null   object\n",
      " 10  listed_in     8807 non-null   object\n",
      " 11  description   8807 non-null   object\n",
      "dtypes: int64(1), object(11)\n",
      "memory usage: 894.5+ KB\n"
     ]
    }
   ],
   "source": [
    "netflix.info()"
   ]
  },
  {
   "cell_type": "code",
   "execution_count": 84,
   "id": "8e93eb16",
   "metadata": {},
   "outputs": [
    {
     "data": {
      "text/plain": [
       "Rajiv Chilaka             19\n",
       "Raúl Campos, Jan Suter    18\n",
       "Marcus Raboy              16\n",
       "Suhas Kadav               16\n",
       "Jay Karas                 14\n",
       "Cathy Garcia-Molina       13\n",
       "Martin Scorsese           12\n",
       "Youssef Chahine           12\n",
       "Jay Chapman               12\n",
       "Steven Spielberg          11\n",
       "Name: director, dtype: int64"
      ]
     },
     "execution_count": 84,
     "metadata": {},
     "output_type": "execute_result"
    }
   ],
   "source": [
    "netflix.director.value_counts().head(10)"
   ]
  },
  {
   "cell_type": "code",
   "execution_count": 85,
   "id": "43939ac7",
   "metadata": {},
   "outputs": [
    {
     "name": "stdout",
     "output_type": "stream",
     "text": [
      "<class 'pandas.core.frame.DataFrame'>\n",
      "RangeIndex: 21613 entries, 0 to 21612\n",
      "Data columns (total 21 columns):\n",
      " #   Column         Non-Null Count  Dtype  \n",
      "---  ------         --------------  -----  \n",
      " 0   id             21613 non-null  int64  \n",
      " 1   date           21613 non-null  object \n",
      " 2   price          21613 non-null  float64\n",
      " 3   bedrooms       21613 non-null  int64  \n",
      " 4   bathrooms      21613 non-null  float64\n",
      " 5   sqft_living    21613 non-null  int64  \n",
      " 6   sqft_lot       21613 non-null  int64  \n",
      " 7   floors         21613 non-null  float64\n",
      " 8   waterfront     21613 non-null  int64  \n",
      " 9   view           21613 non-null  int64  \n",
      " 10  condition      21613 non-null  int64  \n",
      " 11  grade          21613 non-null  int64  \n",
      " 12  sqft_above     21613 non-null  int64  \n",
      " 13  sqft_basement  21613 non-null  int64  \n",
      " 14  yr_built       21613 non-null  int64  \n",
      " 15  yr_renovated   21613 non-null  int64  \n",
      " 16  zipcode        21613 non-null  int64  \n",
      " 17  lat            21613 non-null  float64\n",
      " 18  long           21613 non-null  float64\n",
      " 19  sqft_living15  21613 non-null  int64  \n",
      " 20  sqft_lot15     21613 non-null  int64  \n",
      "dtypes: float64(5), int64(15), object(1)\n",
      "memory usage: 3.5+ MB\n"
     ]
    }
   ],
   "source": [
    "kc_house.info()"
   ]
  },
  {
   "cell_type": "code",
   "execution_count": 86,
   "id": "d18f47dd",
   "metadata": {},
   "outputs": [
    {
     "data": {
      "text/plain": [
       "350000.0    172\n",
       "450000.0    172\n",
       "550000.0    159\n",
       "500000.0    152\n",
       "425000.0    150\n",
       "325000.0    148\n",
       "400000.0    145\n",
       "375000.0    138\n",
       "300000.0    133\n",
       "525000.0    131\n",
       "Name: price, dtype: int64"
      ]
     },
     "execution_count": 86,
     "metadata": {},
     "output_type": "execute_result"
    }
   ],
   "source": [
    "kc_house.price.value_counts().head(10)"
   ]
  },
  {
   "cell_type": "code",
   "execution_count": 87,
   "id": "30065cfb",
   "metadata": {},
   "outputs": [
    {
     "data": {
      "text/plain": [
       "402101.0       1\n",
       "1151250.0      1\n",
       "562200.0       1\n",
       "686500.0       1\n",
       "332900.0       1\n",
       "            ... \n",
       "425000.0     150\n",
       "500000.0     152\n",
       "550000.0     159\n",
       "450000.0     172\n",
       "350000.0     172\n",
       "Name: price, Length: 4028, dtype: int64"
      ]
     },
     "execution_count": 87,
     "metadata": {},
     "output_type": "execute_result"
    }
   ],
   "source": [
    "kc_house.price.value_counts(ascending=True)"
   ]
  },
  {
   "cell_type": "code",
   "execution_count": 88,
   "id": "51cebeb1",
   "metadata": {},
   "outputs": [
    {
     "data": {
      "text/plain": [
       "1.0    10680\n",
       "2.0     8241\n",
       "1.5     1910\n",
       "3.0      613\n",
       "2.5      161\n",
       "3.5        8\n",
       "Name: floors, dtype: int64"
      ]
     },
     "execution_count": 88,
     "metadata": {},
     "output_type": "execute_result"
    }
   ],
   "source": [
    "kc_house.floors.value_counts()"
   ]
  },
  {
   "cell_type": "code",
   "execution_count": 89,
   "id": "e12700d1",
   "metadata": {},
   "outputs": [
    {
     "name": "stdout",
     "output_type": "stream",
     "text": [
      "<class 'pandas.core.frame.DataFrame'>\n",
      "Int64Index: 8807 entries, 0 to 8806\n",
      "Data columns (total 12 columns):\n",
      " #   Column        Non-Null Count  Dtype \n",
      "---  ------        --------------  ----- \n",
      " 0   show_id       8807 non-null   object\n",
      " 1   type          8807 non-null   object\n",
      " 2   title         8807 non-null   object\n",
      " 3   director      6173 non-null   object\n",
      " 4   cast          7982 non-null   object\n",
      " 5   country       7976 non-null   object\n",
      " 6   date_added    8797 non-null   object\n",
      " 7   release_year  8807 non-null   int64 \n",
      " 8   rating        8803 non-null   object\n",
      " 9   duration      8804 non-null   object\n",
      " 10  listed_in     8807 non-null   object\n",
      " 11  description   8807 non-null   object\n",
      "dtypes: int64(1), object(11)\n",
      "memory usage: 894.5+ KB\n"
     ]
    }
   ],
   "source": [
    "netflix.info()"
   ]
  },
  {
   "cell_type": "code",
   "execution_count": 90,
   "id": "fc3076cd",
   "metadata": {},
   "outputs": [
    {
     "data": {
      "text/plain": [
       "release_year  type   \n",
       "2017          Movie      767\n",
       "2018          Movie      767\n",
       "2016          Movie      658\n",
       "2019          Movie      633\n",
       "2020          Movie      517\n",
       "              TV Show    436\n",
       "2015          Movie      398\n",
       "2019          TV Show    397\n",
       "2018          TV Show    380\n",
       "2021          TV Show    315\n",
       "dtype: int64"
      ]
     },
     "execution_count": 90,
     "metadata": {},
     "output_type": "execute_result"
    }
   ],
   "source": [
    "netflix[['release_year', 'type']].value_counts().head(10)"
   ]
  },
  {
   "cell_type": "markdown",
   "id": "17e7e65e",
   "metadata": {},
   "source": [
    "# Note\n",
    "* You Can Use Plot() To Creat Graph"
   ]
  },
  {
   "cell_type": "code",
   "execution_count": 91,
   "id": "32189a11",
   "metadata": {},
   "outputs": [
    {
     "data": {
      "text/plain": [
       "<AxesSubplot:xlabel='release_year,type'>"
      ]
     },
     "execution_count": 91,
     "metadata": {},
     "output_type": "execute_result"
    },
    {
     "data": {
      "image/png": "[encoded data removed]",
      "text/plain": [
       "<Figure size 640x480 with 1 Axes>"
      ]
     },
     "metadata": {},
     "output_type": "display_data"
    }
   ],
   "source": [
    "netflix[['release_year', 'type']].value_counts().head(10).plot()"
   ]
  },
  {
   "cell_type": "code",
   "execution_count": 92,
   "id": "154117a3",
   "metadata": {},
   "outputs": [
    {
     "name": "stdout",
     "output_type": "stream",
     "text": [
      "<class 'pandas.core.frame.DataFrame'>\n",
      "RangeIndex: 1309 entries, 0 to 1308\n",
      "Data columns (total 14 columns):\n",
      " #   Column     Non-Null Count  Dtype \n",
      "---  ------     --------------  ----- \n",
      " 0   pclass     1309 non-null   int64 \n",
      " 1   survived   1309 non-null   int64 \n",
      " 2   name       1309 non-null   object\n",
      " 3   sex        1309 non-null   object\n",
      " 4   age        1309 non-null   object\n",
      " 5   sibsp      1309 non-null   int64 \n",
      " 6   parch      1309 non-null   int64 \n",
      " 7   ticket     1309 non-null   object\n",
      " 8   fare       1309 non-null   object\n",
      " 9   cabin      1309 non-null   object\n",
      " 10  embarked   1309 non-null   object\n",
      " 11  boat       1309 non-null   object\n",
      " 12  body       1309 non-null   object\n",
      " 13  home.dest  1309 non-null   object\n",
      "dtypes: int64(4), object(10)\n",
      "memory usage: 143.3+ KB\n"
     ]
    }
   ],
   "source": [
    "titanic.info()"
   ]
  },
  {
   "cell_type": "code",
   "execution_count": 93,
   "id": "899a8ce2",
   "metadata": {},
   "outputs": [
    {
     "data": {
      "text/plain": [
       "<AxesSubplot:xlabel='age,sex'>"
      ]
     },
     "execution_count": 93,
     "metadata": {},
     "output_type": "execute_result"
    },
    {
     "data": {
      "image/png": "[encoded data removed]",
      "text/plain": [
       "<Figure size 640x480 with 1 Axes>"
      ]
     },
     "metadata": {},
     "output_type": "display_data"
    }
   ],
   "source": [
    "titanic[['age', 'sex']].value_counts().head(50).plot()"
   ]
  },
  {
   "cell_type": "code",
   "execution_count": 94,
   "id": "ee5f7777",
   "metadata": {},
   "outputs": [
    {
     "name": "stdout",
     "output_type": "stream",
     "text": [
      "<class 'pandas.core.frame.DataFrame'>\n",
      "Int64Index: 8807 entries, 0 to 8806\n",
      "Data columns (total 12 columns):\n",
      " #   Column        Non-Null Count  Dtype \n",
      "---  ------        --------------  ----- \n",
      " 0   show_id       8807 non-null   object\n",
      " 1   type          8807 non-null   object\n",
      " 2   title         8807 non-null   object\n",
      " 3   director      6173 non-null   object\n",
      " 4   cast          7982 non-null   object\n",
      " 5   country       7976 non-null   object\n",
      " 6   date_added    8797 non-null   object\n",
      " 7   release_year  8807 non-null   int64 \n",
      " 8   rating        8803 non-null   object\n",
      " 9   duration      8804 non-null   object\n",
      " 10  listed_in     8807 non-null   object\n",
      " 11  description   8807 non-null   object\n",
      "dtypes: int64(1), object(11)\n",
      "memory usage: 894.5+ KB\n"
     ]
    }
   ],
   "source": [
    "netflix.info()"
   ]
  },
  {
   "cell_type": "code",
   "execution_count": 95,
   "id": "ef379a1c",
   "metadata": {},
   "outputs": [
    {
     "data": {
      "text/plain": [
       "<AxesSubplot:xlabel='release_year,director'>"
      ]
     },
     "execution_count": 95,
     "metadata": {},
     "output_type": "execute_result"
    },
    {
     "data": {
      "image/png": "[encoded data removed]",
      "text/plain": [
       "<Figure size 640x480 with 1 Axes>"
      ]
     },
     "metadata": {},
     "output_type": "display_data"
    }
   ],
   "source": [
    "netflix[['release_year','director']].value_counts().head(20).plot()"
   ]
  },
  {
   "cell_type": "code",
   "execution_count": 96,
   "id": "5e623476",
   "metadata": {},
   "outputs": [
    {
     "data": {
      "text/plain": [
       "<AxesSubplot:>"
      ]
     },
     "execution_count": 96,
     "metadata": {},
     "output_type": "execute_result"
    },
    {
     "data": {
      "image/png": "[encoded data removed]",
      "text/plain": [
       "<Figure size 640x480 with 1 Axes>"
      ]
     },
     "metadata": {},
     "output_type": "display_data"
    }
   ],
   "source": [
    "kc_house.price.plot()"
   ]
  },
  {
   "cell_type": "markdown",
   "id": "6dffb2eb",
   "metadata": {},
   "source": [
    "# Note\n",
    "* You Can Use Kind In Plot To Better Use The plot"
   ]
  },
  {
   "cell_type": "markdown",
   "id": "6da0cbf1",
   "metadata": {},
   "source": [
    "# kind : str\n",
    "#### The kind of plot to produce:\n",
    "\n",
    "* ‘line’ : line plot (default)\n",
    "\n",
    "* ‘bar’ : vertical bar plot\n",
    "* ‘barh’ : horizontal bar plot\n",
    "* ‘hist’ : histogram\n",
    "\n",
    "* ‘box’ : boxplot\n",
    "* ‘kde’ : Kernel Density Estimation plot\n",
    "* ‘density’ : same as ‘kde’\n",
    "\n",
    "* ‘area’ : area plot\n",
    "* ‘pie’ : pie plot\n",
    "* ‘scatter’ : scatter plot (DataFrame only)\n",
    "\n",
    "* ‘hexbin’ : hexbin plot (DataFrame only)"
   ]
  },
  {
   "cell_type": "code",
   "execution_count": 99,
   "id": "04f3ffbd",
   "metadata": {},
   "outputs": [
    {
     "data": {
      "text/plain": [
       "<AxesSubplot:>"
      ]
     },
     "execution_count": 99,
     "metadata": {},
     "output_type": "execute_result"
    },
    {
     "data": {
      "image/png": "[encoded data removed]",
      "text/plain": [
       "<Figure size 640x480 with 1 Axes>"
      ]
     },
     "metadata": {},
     "output_type": "display_data"
    }
   ],
   "source": [
    "kc_house.bedrooms.value_counts().plot(kind='bar')"
   ]
  },
  {
   "cell_type": "code",
   "execution_count": 103,
   "id": "d43d854e",
   "metadata": {},
   "outputs": [
    {
     "data": {
      "text/plain": [
       "<AxesSubplot:ylabel='Density'>"
      ]
     },
     "execution_count": 103,
     "metadata": {},
     "output_type": "execute_result"
    },
    {
     "data": {
      "image/png": "[encoded data removed]",
      "text/plain": [
       "<Figure size 640x480 with 1 Axes>"
      ]
     },
     "metadata": {},
     "output_type": "display_data"
    }
   ],
   "source": [
    "kc_house.bedrooms.value_counts().plot(kind='kde')"
   ]
  },
  {
   "cell_type": "code",
   "execution_count": 106,
   "id": "2f830c61",
   "metadata": {},
   "outputs": [
    {
     "data": {
      "text/plain": [
       "<AxesSubplot:ylabel='bedrooms'>"
      ]
     },
     "execution_count": 106,
     "metadata": {},
     "output_type": "execute_result"
    },
    {
     "data": {
      "image/png": "[encoded data removed]",
      "text/plain": [
       "<Figure size 640x480 with 1 Axes>"
      ]
     },
     "metadata": {},
     "output_type": "display_data"
    }
   ],
   "source": [
    "kc_house.bedrooms.value_counts().plot(kind='pie')"
   ]
  },
  {
   "cell_type": "code",
   "execution_count": 116,
   "id": "4944d1aa",
   "metadata": {},
   "outputs": [
    {
     "name": "stdout",
     "output_type": "stream",
     "text": [
      "<class 'pandas.core.frame.DataFrame'>\n",
      "RangeIndex: 1309 entries, 0 to 1308\n",
      "Data columns (total 14 columns):\n",
      " #   Column     Non-Null Count  Dtype \n",
      "---  ------     --------------  ----- \n",
      " 0   pclass     1309 non-null   int64 \n",
      " 1   survived   1309 non-null   int64 \n",
      " 2   name       1309 non-null   object\n",
      " 3   sex        1309 non-null   object\n",
      " 4   age        1309 non-null   object\n",
      " 5   sibsp      1309 non-null   int64 \n",
      " 6   parch      1309 non-null   int64 \n",
      " 7   ticket     1309 non-null   object\n",
      " 8   fare       1309 non-null   object\n",
      " 9   cabin      1309 non-null   object\n",
      " 10  embarked   1309 non-null   object\n",
      " 11  boat       1309 non-null   object\n",
      " 12  body       1309 non-null   object\n",
      " 13  home.dest  1309 non-null   object\n",
      "dtypes: int64(4), object(10)\n",
      "memory usage: 143.3+ KB\n"
     ]
    }
   ],
   "source": [
    "titanic.info()"
   ]
  },
  {
   "cell_type": "code",
   "execution_count": 122,
   "id": "45b3ad4f",
   "metadata": {},
   "outputs": [
    {
     "data": {
      "text/plain": [
       "<AxesSubplot:>"
      ]
     },
     "execution_count": 122,
     "metadata": {},
     "output_type": "execute_result"
    },
    {
     "data": {
      "image/png": "[encoded data removed]",
      "text/plain": [
       "<Figure size 640x480 with 1 Axes>"
      ]
     },
     "metadata": {},
     "output_type": "display_data"
    }
   ],
   "source": [
    "titanic[['parch', 'sibsp']].plot()"
   ]
  },
  {
   "cell_type": "code",
   "execution_count": 123,
   "id": "40bfa6e0",
   "metadata": {},
   "outputs": [
    {
     "data": {
      "text/plain": [
       "<AxesSubplot:>"
      ]
     },
     "execution_count": 123,
     "metadata": {},
     "output_type": "execute_result"
    },
    {
     "data": {
      "image/png": "[encoded data removed]",
      "text/plain": [
       "<Figure size 640x480 with 1 Axes>"
      ]
     },
     "metadata": {},
     "output_type": "display_data"
    }
   ],
   "source": [
    "netflix.plot()"
   ]
  },
  {
   "cell_type": "code",
   "execution_count": 124,
   "id": "f611704d",
   "metadata": {},
   "outputs": [
    {
     "data": {
      "text/plain": [
       "<AxesSubplot:>"
      ]
     },
     "execution_count": 124,
     "metadata": {},
     "output_type": "execute_result"
    },
    {
     "data": {
      "image/png": "[encoded data removed]",
      "text/plain": [
       "<Figure size 640x480 with 1 Axes>"
      ]
     },
     "metadata": {},
     "output_type": "display_data"
    }
   ],
   "source": [
    "kc_house.plot()"
   ]
  },
  {
   "cell_type": "code",
   "execution_count": 135,
   "id": "8de7d78d",
   "metadata": {},
   "outputs": [
    {
     "name": "stdout",
     "output_type": "stream",
     "text": [
      "<class 'pandas.core.frame.DataFrame'>\n",
      "RangeIndex: 21613 entries, 0 to 21612\n",
      "Data columns (total 21 columns):\n",
      " #   Column         Non-Null Count  Dtype  \n",
      "---  ------         --------------  -----  \n",
      " 0   id             21613 non-null  int64  \n",
      " 1   date           21613 non-null  object \n",
      " 2   price          21613 non-null  float64\n",
      " 3   bedrooms       21613 non-null  int64  \n",
      " 4   bathrooms      21613 non-null  float64\n",
      " 5   sqft_living    21613 non-null  int64  \n",
      " 6   sqft_lot       21613 non-null  int64  \n",
      " 7   floors         21613 non-null  float64\n",
      " 8   waterfront     21613 non-null  int64  \n",
      " 9   view           21613 non-null  int64  \n",
      " 10  condition      21613 non-null  int64  \n",
      " 11  grade          21613 non-null  int64  \n",
      " 12  sqft_above     21613 non-null  int64  \n",
      " 13  sqft_basement  21613 non-null  int64  \n",
      " 14  yr_built       21613 non-null  int64  \n",
      " 15  yr_renovated   21613 non-null  int64  \n",
      " 16  zipcode        21613 non-null  int64  \n",
      " 17  lat            21613 non-null  float64\n",
      " 18  long           21613 non-null  float64\n",
      " 19  sqft_living15  21613 non-null  int64  \n",
      " 20  sqft_lot15     21613 non-null  int64  \n",
      "dtypes: float64(5), int64(15), object(1)\n",
      "memory usage: 3.5+ MB\n"
     ]
    }
   ],
   "source": [
    "kc_house.info()"
   ]
  },
  {
   "cell_type": "code",
   "execution_count": 141,
   "id": "947a297b",
   "metadata": {},
   "outputs": [
    {
     "data": {
      "text/plain": [
       "<AxesSubplot:>"
      ]
     },
     "execution_count": 141,
     "metadata": {},
     "output_type": "execute_result"
    },
    {
     "data": {
      "image/png": "[encoded data removed]",
      "text/plain": [
       "<Figure size 640x480 with 1 Axes>"
      ]
     },
     "metadata": {},
     "output_type": "display_data"
    }
   ],
   "source": [
    "kc_house[['price', 'sqft_lot']].plot()"
   ]
  },
  {
   "cell_type": "code",
   "execution_count": 148,
   "id": "96a1a81f",
   "metadata": {},
   "outputs": [],
   "source": [
    "df = kc_house[['price', 'sqft_lot']]"
   ]
  },
  {
   "cell_type": "code",
   "execution_count": 144,
   "id": "9e2f1b44",
   "metadata": {},
   "outputs": [
    {
     "data": {
      "text/plain": [
       "<AxesSubplot:xlabel='sqft_lot', ylabel='price'>"
      ]
     },
     "execution_count": 144,
     "metadata": {},
     "output_type": "execute_result"
    },
    {
     "data": {
      "image/png": "[encoded data removed]",
      "text/plain": [
       "<Figure size 640x480 with 1 Axes>"
      ]
     },
     "metadata": {},
     "output_type": "display_data"
    }
   ],
   "source": [
    "df.plot(kind='scatter', x='sqft_lot', y= 'price')"
   ]
  },
  {
   "cell_type": "code",
   "execution_count": 145,
   "id": "2b2cc56d",
   "metadata": {},
   "outputs": [
    {
     "data": {
      "text/plain": [
       "<AxesSubplot:xlabel='sqft_lot', ylabel='price'>"
      ]
     },
     "execution_count": 145,
     "metadata": {},
     "output_type": "execute_result"
    },
    {
     "data": {
      "image/png": "[encoded data removed]",
      "text/plain": [
       "<Figure size 640x480 with 2 Axes>"
      ]
     },
     "metadata": {},
     "output_type": "display_data"
    }
   ],
   "source": [
    "df.plot(kind='hexbin', x='sqft_lot', y= 'price')"
   ]
  },
  {
   "cell_type": "code",
   "execution_count": 147,
   "id": "5d2f8d27",
   "metadata": {},
   "outputs": [
    {
     "data": {
      "text/plain": [
       "<AxesSubplot:xlabel='sqft_lot'>"
      ]
     },
     "execution_count": 147,
     "metadata": {},
     "output_type": "execute_result"
    },
    {
     "data": {
      "image/png": "[encoded data removed]",
      "text/plain": [
       "<Figure size 640x480 with 1 Axes>"
      ]
     },
     "metadata": {},
     "output_type": "display_data"
    }
   ],
   "source": [
    "df.plot(kind='bar', x='sqft_lot', y= 'price')"
   ]
  },
  {
   "cell_type": "code",
   "execution_count": 149,
   "id": "4ed0e1e6",
   "metadata": {},
   "outputs": [
    {
     "name": "stdout",
     "output_type": "stream",
     "text": [
      "<class 'pandas.core.frame.DataFrame'>\n",
      "RangeIndex: 21613 entries, 0 to 21612\n",
      "Data columns (total 21 columns):\n",
      " #   Column         Non-Null Count  Dtype  \n",
      "---  ------         --------------  -----  \n",
      " 0   id             21613 non-null  int64  \n",
      " 1   date           21613 non-null  object \n",
      " 2   price          21613 non-null  float64\n",
      " 3   bedrooms       21613 non-null  int64  \n",
      " 4   bathrooms      21613 non-null  float64\n",
      " 5   sqft_living    21613 non-null  int64  \n",
      " 6   sqft_lot       21613 non-null  int64  \n",
      " 7   floors         21613 non-null  float64\n",
      " 8   waterfront     21613 non-null  int64  \n",
      " 9   view           21613 non-null  int64  \n",
      " 10  condition      21613 non-null  int64  \n",
      " 11  grade          21613 non-null  int64  \n",
      " 12  sqft_above     21613 non-null  int64  \n",
      " 13  sqft_basement  21613 non-null  int64  \n",
      " 14  yr_built       21613 non-null  int64  \n",
      " 15  yr_renovated   21613 non-null  int64  \n",
      " 16  zipcode        21613 non-null  int64  \n",
      " 17  lat            21613 non-null  float64\n",
      " 18  long           21613 non-null  float64\n",
      " 19  sqft_living15  21613 non-null  int64  \n",
      " 20  sqft_lot15     21613 non-null  int64  \n",
      "dtypes: float64(5), int64(15), object(1)\n",
      "memory usage: 3.5+ MB\n"
     ]
    }
   ],
   "source": [
    "kc_house.info()"
   ]
  },
  {
   "cell_type": "code",
   "execution_count": 150,
   "id": "2d1402f7",
   "metadata": {},
   "outputs": [],
   "source": [
    "df1 = kc_house[['bedrooms', 'bathrooms']]"
   ]
  },
  {
   "cell_type": "code",
   "execution_count": 151,
   "id": "912434e8",
   "metadata": {},
   "outputs": [
    {
     "data": {
      "text/plain": [
       "<AxesSubplot:xlabel='bedrooms', ylabel='bathrooms'>"
      ]
     },
     "execution_count": 151,
     "metadata": {},
     "output_type": "execute_result"
    },
    {
     "data": {
      "image/png": "[encoded data removed]",
      "text/plain": [
       "<Figure size 640x480 with 1 Axes>"
      ]
     },
     "metadata": {},
     "output_type": "display_data"
    }
   ],
   "source": [
    "df1.plot(kind='scatter', x= 'bedrooms', y='bathrooms')"
   ]
  },
  {
   "cell_type": "code",
   "execution_count": 155,
   "id": "b22038de",
   "metadata": {},
   "outputs": [
    {
     "data": {
      "text/plain": [
       "<AxesSubplot:>"
      ]
     },
     "execution_count": 155,
     "metadata": {},
     "output_type": "execute_result"
    },
    {
     "data": {
      "image/png": "[encoded data removed]",
      "text/plain": [
       "<Figure size 640x480 with 1 Axes>"
      ]
     },
     "metadata": {},
     "output_type": "display_data"
    }
   ],
   "source": [
    "netflix.rating.value_counts().head(10).plot(kind='bar')"
   ]
  },
  {
   "cell_type": "code",
   "execution_count": 156,
   "id": "32b4ee82",
   "metadata": {},
   "outputs": [
    {
     "data": {
      "text/plain": [
       "<AxesSubplot:ylabel='rating'>"
      ]
     },
     "execution_count": 156,
     "metadata": {},
     "output_type": "execute_result"
    },
    {
     "data": {
      "image/png": "[encoded data removed]",
      "text/plain": [
       "<Figure size 640x480 with 1 Axes>"
      ]
     },
     "metadata": {},
     "output_type": "display_data"
    }
   ],
   "source": [
    "netflix.rating.value_counts().head(10).plot(kind='pie')"
   ]
  },
  {
   "cell_type": "code",
   "execution_count": 158,
   "id": "45dcc29b",
   "metadata": {},
   "outputs": [
    {
     "data": {
      "text/plain": [
       "<AxesSubplot:ylabel='Frequency'>"
      ]
     },
     "execution_count": 158,
     "metadata": {},
     "output_type": "execute_result"
    },
    {
     "data": {
      "image/png": "[encoded data removed]",
      "text/plain": [
       "<Figure size 640x480 with 1 Axes>"
      ]
     },
     "metadata": {},
     "output_type": "display_data"
    }
   ],
   "source": [
    "netflix.rating.value_counts().head(10).plot(kind='hist')"
   ]
  },
  {
   "cell_type": "code",
   "execution_count": null,
   "id": "db63406d",
   "metadata": {},
   "outputs": [],
   "source": []
  },
  {
   "cell_type": "code",
   "execution_count": null,
   "id": "6ec41e53",
   "metadata": {},
   "outputs": [],
   "source": []
  },
  {
   "cell_type": "code",
   "execution_count": null,
   "id": "a17266bb",
   "metadata": {},
   "outputs": [],
   "source": []
  }
 ],
 "metadata": {
  "kernelspec": {
   "display_name": "Python 3 (ipykernel)",
   "language": "python",
   "name": "python3"
  },
  "language_info": {
   "codemirror_mode": {
    "name": "ipython",
    "version": 3
   },
   "file_extension": ".py",
   "mimetype": "text/x-python",
   "name": "python",
   "nbconvert_exporter": "python",
   "pygments_lexer": "ipython3",
   "version": "3.9.13"
  }
 },
 "nbformat": 4,
 "nbformat_minor": 5
}
